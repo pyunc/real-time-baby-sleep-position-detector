{
  "cells": [
    {
      "attachments": {},
      "cell_type": "markdown",
      "metadata": {
        "id": "Tce3stUlHN0L"
      },
      "source": [
        "##### Copyright 2020 The TensorFlow IO Authors."
      ]
    },
    {
      "cell_type": "code",
      "execution_count": 9,
      "metadata": {},
      "outputs": [],
      "source": [
        "from flask import Flask, Response\n",
        "from kafka3 import KafkaConsumer\n",
        "from collections import Counter\n",
        "import math\n",
        "import os\n",
        "import sys\n",
        "sys.path.append('../../../real-time-baby-sleep-position-detector')\n",
        "os.environ['TF_CPP_MIN_LOG_LEVEL'] = '4'\n",
        "# tf.get_logger().setLevel('ERROR')\n",
        "from utils.settings import PROCESSED_EVENTS_TOPIC\n",
        "from utils.data_utils import create_consumer\n",
        "import json"
      ]
    },
    {
      "cell_type": "code",
      "execution_count": 2,
      "metadata": {},
      "outputs": [],
      "source": [
        "consumer = create_consumer(topic=PROCESSED_EVENTS_TOPIC)"
      ]
    },
    {
      "cell_type": "code",
      "execution_count": 18,
      "metadata": {},
      "outputs": [],
      "source": [
        "message = consumer.poll(timeout_ms=50000)"
      ]
    },
    {
      "cell_type": "code",
      "execution_count": 22,
      "metadata": {},
      "outputs": [
        {
          "data": {
            "text/plain": [
              "{'status': 'back', 'timestamp': '2023-07-10 17:31:09'}"
            ]
          },
          "execution_count": 22,
          "metadata": {},
          "output_type": "execute_result"
        }
      ],
      "source": [
        "json.loads(list(message.items())[0][1][0].value.decode('utf-8'))\n"
      ]
    },
    {
      "cell_type": "code",
      "execution_count": 16,
      "metadata": {},
      "outputs": [
        {
          "name": "stdout",
          "output_type": "stream",
          "text": [
            "back\n",
            "2023-07-10 17:21:22\n"
          ]
        }
      ],
      "source": [
        "payload = json.loads(list(message.items())[0][1][0].value.decode('utf-8'))\n",
        "for k in payload.keys():\n",
        "    if k == 'status':\n",
        "        status = payload['status']\n",
        "        baby_activity.append(status)\n",
        "        baby_activity = trim_activity(baby_activity)\n",
        "        entropy = calculate_entropy(baby_activity)\n",
        "        last_status = update_last_status(last_status, status)\n",
        "    elif k == 'timestamp':\n",
        "        timestamp = payload['timestamp']\n"
      ]
    },
    {
      "cell_type": "code",
      "execution_count": 32,
      "metadata": {},
      "outputs": [
        {
          "name": "stdout",
          "output_type": "stream",
          "text": [
            "13\n",
            "1\n",
            "7\n",
            "1\n",
            "Shannon Entropy: 1.379558855444687\n"
          ]
        }
      ],
      "source": [
        "from collections import Counter\n",
        "import math\n",
        "\n",
        "status = ['ok', 'ok', 'ok', 'yes', 'ok', 'no', 'ok', 'ok', 'ok', 'ok', 'ok', 'round', 'ok', 'ok', 'ok', 'ok', 'no', 'no', 'no', 'no', 'no', 'no']\n",
        "\n",
        "status_counts = Counter(status)\n",
        "\n",
        "total_count = len(status)\n",
        "entropy = 0.0\n",
        "\n",
        "for count in status_counts.values():\n",
        "    print(count)\n",
        "    probability = count / total_count\n",
        "    entropy -= probability * math.log2(probability)\n",
        "\n",
        "print(\"Shannon Entropy:\", entropy)\n"
      ]
    },
    {
      "cell_type": "code",
      "execution_count": 27,
      "metadata": {},
      "outputs": [
        {
          "name": "stdout",
          "output_type": "stream",
          "text": [
            "Total Count: 5\n",
            "No Count: 5\n",
            "No Ratio: 1.0\n"
          ]
        }
      ],
      "source": [
        "import numpy as np\n",
        "import pandas as pd\n",
        "from collections import Counter\n",
        "\n",
        "\n",
        "status = ['ok','ok','ok','yes','ok','no','ok','ok','ok','ok','ok','round','ok','ok','ok','ok', 'no','no','no','no','no','no']\n",
        "\n",
        "status.append('no')\n",
        "\n",
        "# status level\n",
        "status_counts = Counter(status[-5:])\n",
        "\n",
        "total_count = len(status[-5:])\n",
        "no_count = status_counts['no']\n",
        "no_ratio = no_count / total_count\n",
        "\n",
        "# remove level\n",
        "status = status[5:]\n",
        "\n",
        "print(\"Total Count:\", total_count)\n",
        "print(\"No Count:\", no_count)\n",
        "print(\"No Ratio:\", no_ratio)\n",
        "\n"
      ]
    },
    {
      "cell_type": "code",
      "execution_count": 18,
      "metadata": {},
      "outputs": [
        {
          "data": {
            "text/plain": [
              "['no', 'no', 'no', 'no', 'test']"
            ]
          },
          "execution_count": 18,
          "metadata": {},
          "output_type": "execute_result"
        }
      ],
      "source": [
        "status[-5:]"
      ]
    },
    {
      "cell_type": "code",
      "execution_count": 1,
      "metadata": {},
      "outputs": [
        {
          "name": "stdout",
          "output_type": "stream",
          "text": [
            "Joint Angle:  -0.010444491287080578\n",
            "Joint Angle:  -0.020680092748419546\n",
            "Joint Angle:  -0.030710982180531733\n",
            "Joint Angle:  -0.04054125382400168\n",
            "Joint Angle:  -0.05017492003460222\n",
            "Joint Angle:  -0.059615912920990756\n",
            "Joint Angle:  -0.06886808594965152\n",
            "Joint Angle:  -0.07793521551773906\n",
            "Joint Angle:  -0.08682100249446485\n",
            "Joint Angle:  -0.09552907373165613\n",
            "Joint Angle:  -0.10406298354410358\n",
            "Joint Angle:  -0.11242621516030209\n",
            "Joint Angle:  -0.12062218214417662\n",
            "Joint Angle:  -0.12865422978837365\n",
            "Joint Angle:  -0.13652563647968677\n",
            "Joint Angle:  -0.1442396150371736\n",
            "Joint Angle:  -0.1517993140235107\n",
            "Joint Angle:  -0.15920781903012107\n",
            "Joint Angle:  -0.16646815393659922\n",
            "Joint Angle:  -0.1735832821449478\n",
            "Joint Angle:  -0.18055610778912942\n",
            "Joint Angle:  -0.1873894769204274\n",
            "Joint Angle:  -0.19408617866909944\n",
            "Joint Angle:  -0.20064894638279804\n",
            "Joint Angle:  -0.20708045874222264\n",
            "Joint Angle:  -0.21338334085445876\n",
            "Joint Angle:  -0.21956016532445016\n",
            "Joint Angle:  -0.22561345330504173\n",
            "Joint Angle:  -0.23154567552602148\n",
            "Joint Angle:  -0.23735925330258162\n",
            "Joint Angle:  -0.24305655952361055\n",
            "Joint Angle:  -0.24863991962021892\n",
            "Joint Angle:  -0.2541116125148951\n",
            "Joint Angle:  -0.2594738715516778\n",
            "Joint Angle:  -0.2647288854077248\n",
            "Joint Angle:  -0.2698787989866509\n",
            "Joint Angle:  -0.2749257142939985\n",
            "Joint Angle:  -0.27987169129519907\n",
            "Joint Angle:  -0.28471874875637565\n",
            "Joint Angle:  -0.2894688650683287\n",
            "Joint Angle:  -0.2941239790540427\n",
            "Joint Angle:  -0.29868599076004243\n",
            "Joint Angle:  -0.30315676223192217\n",
            "Joint Angle:  -0.3075381182743643\n",
            "Joint Angle:  -0.3118318471959576\n",
            "Joint Angle:  -0.316039701539119\n",
            "Joint Angle:  -0.32016339879541716\n",
            "Joint Angle:  -0.3242046221065894\n",
            "Joint Angle:  -0.3281650209515382\n",
            "Joint Angle:  -0.33204621181958804\n",
            "Joint Angle:  -0.33584977887027684\n",
            "Joint Angle:  -0.33957727457995185\n",
            "Joint Angle:  -0.3432302203754334\n",
            "Joint Angle:  -0.3468101072550053\n",
            "Joint Angle:  -0.35031839639698575\n",
            "Joint Angle:  -0.3537565197561266\n",
            "Joint Angle:  -0.35712588064808465\n",
            "Joint Angle:  -0.36042785432220353\n",
            "Joint Angle:  -0.36366378852284004\n",
            "Joint Angle:  -0.3668350040394638\n",
            "Joint Angle:  -0.3699427952457551\n",
            "Joint Angle:  -0.37298843062792053\n",
            "Joint Angle:  -0.3759731533024427\n",
            "Joint Angle:  -0.3788981815234744\n",
            "Joint Angle:  -0.3817647091800855\n",
            "Joint Angle:  -0.38457390628356436\n",
            "Joint Angle:  -0.38732691944497366\n",
            "Joint Angle:  -0.39002487234315475\n",
            "Joint Angle:  -0.3926688661833722\n",
            "Joint Angle:  -0.3952599801467853\n",
            "Joint Angle:  -0.39779927183093017\n",
            "Joint Angle:  -0.4002877776813921\n",
            "Joint Angle:  -0.40272651341484483\n",
            "Joint Angle:  -0.4051164744336285\n",
            "Joint Angle:  -0.40745863623203654\n",
            "Joint Angle:  -0.4097539547944764\n",
            "Joint Angle:  -0.4120033669856675\n",
            "Joint Angle:  -0.41420779093303467\n",
            "Joint Angle:  -0.41636812640145454\n",
            "Joint Angle:  -0.418485255160506\n",
            "Joint Angle:  -0.42056004134437647\n",
            "Joint Angle:  -0.4225933318045695\n",
            "Joint Angle:  -0.4245859564555587\n",
            "Joint Angle:  -0.4265387286135281\n",
            "Joint Angle:  -0.4284524453283381\n",
            "Joint Angle:  -0.4303278877088519\n",
            "Joint Angle:  -0.4321658212417554\n",
            "Joint Angle:  -0.43396699610400086\n",
            "Joint Angle:  -0.4357321474690014\n",
            "Joint Angle:  -0.437461995806702\n",
            "Joint Angle:  -0.4391572471776485\n",
            "Joint Angle:  -0.4408185935211761\n",
            "Joint Angle:  -0.4424467129378331\n",
            "Joint Angle:  -0.44404226996615703\n",
            "Joint Angle:  -0.44560591585391446\n",
            "Joint Angle:  -0.44713828882391676\n",
            "Joint Angle:  -0.448640014334519\n",
            "Joint Angle:  -0.4501117053349092\n",
            "Joint Angle:  -0.45155396251529156\n",
            "Joint Angle:  -0.4529673745520663\n"
          ]
        }
      ],
      "source": [
        "import numpy as np\n",
        "from math import atan2, sqrt, pi\n",
        "\n",
        "# Sensor data (accelerometer, gyroscope, and magnetometer readings)\n",
        "accel_data = np.array([0.1, 0.2, 9.7])  # Accelerometer data (m/s^2)\n",
        "gyro_data = np.array([0.01, 0.02, 0.03])  # Gyroscope data (rad/s)\n",
        "mag_data = np.array([50, -20, 30])  # Magnetometer data (microtesla)\n",
        "\n",
        "# Constants for sensor fusion\n",
        "beta = 0.98  # Gyroscope drift compensation factor\n",
        "\n",
        "# Initial joint angle and target joint angle\n",
        "joint_angle = 0.0  # radians\n",
        "target_angle = np.pi/2  # radians\n",
        "\n",
        "# Duration and time step\n",
        "duration = 1.0  # seconds\n",
        "dt = 0.01  # seconds\n",
        "num_iterations = int(duration / dt)\n",
        "\n",
        "def update_pose(accel, gyro, mag, dt):\n",
        "    global joint_angle  # Declare joint_angle as a global variable\n",
        "    \n",
        "    # Convert sensor data to numpy arrays\n",
        "    accel = np.array(accel, dtype=np.float64)\n",
        "    gyro = np.array(gyro, dtype=np.float64)\n",
        "    mag = np.array(mag, dtype=np.float64)\n",
        "    \n",
        "    # Normalize accelerometer data\n",
        "    accel /= np.linalg.norm(accel)\n",
        "    \n",
        "    # Normalize magnetometer data\n",
        "    mag /= np.linalg.norm(mag)\n",
        "    \n",
        "    # Calculate pitch and roll angles from accelerometer data\n",
        "    pitch = atan2(accel[1], sqrt(accel[0]**2 + accel[2]**2))\n",
        "    roll = atan2(-accel[0], accel[2])\n",
        "    \n",
        "    # Calculate yaw angle from magnetometer data\n",
        "    mag_yaw = atan2(mag[1]*np.sin(roll) - mag[2]*np.cos(roll), mag[0]*np.cos(pitch) + mag[1]*np.sin(pitch)*np.sin(roll) + mag[2]*np.sin(pitch)*np.cos(roll))\n",
        "    \n",
        "    # Update joint angle based on gyroscope data\n",
        "    joint_angle += gyro[1] * dt\n",
        "    \n",
        "    # Fuse gyroscope and magnetometer data to compensate for gyroscope drift\n",
        "    fused_angle = beta * joint_angle + (1 - beta) * mag_yaw\n",
        "    \n",
        "    return fused_angle\n",
        "\n",
        "# Main loop\n",
        "for i in range(num_iterations):\n",
        "    # Calculate the interpolation factor (0 to 1) based on time\n",
        "    t = i * dt / duration\n",
        "    \n",
        "    # Interpolate the target joint angle from point A to point B\n",
        "    interpolated_angle = (1 - t) * joint_angle + t * target_angle\n",
        "    \n",
        "    # Set the target joint angle for the next iteration\n",
        "    target_angle = interpolated_angle\n",
        "    \n",
        "    # Call update_pose function to update the body pose\n",
        "    joint_angle = update_pose(accel_data, gyro_data, mag_data, dt)\n",
        "    \n",
        "    # Print the joint angle representing the body pose\n",
        "    print(\"Joint Angle: \", joint_angle)\n"
      ]
    },
    {
      "cell_type": "code",
      "execution_count": 2,
      "metadata": {},
      "outputs": [
        {
          "data": {
            "image/png": "[encoded data removed]",
            "text/plain": [
              "<Figure size 640x480 with 1 Axes>"
            ]
          },
          "metadata": {},
          "output_type": "display_data"
        }
      ],
      "source": [
        "import numpy as np\n",
        "import matplotlib.pyplot as plt\n",
        "\n",
        "# Joint angle range\n",
        "start_angle = 0.0\n",
        "end_angle = np.pi/2\n",
        "\n",
        "# Arm length\n",
        "arm_length = 1.0\n",
        "\n",
        "# Duration and time step\n",
        "duration = 5.0\n",
        "dt = 0.01\n",
        "num_steps = int(duration / dt)\n",
        "\n",
        "# Lists to store joint position coordinates\n",
        "x_coordinates = []\n",
        "y_coordinates = []\n",
        "\n",
        "# Calculate joint position over time\n",
        "for i in range(num_steps):\n",
        "    # Calculate the interpolation factor (0 to 1) based on time\n",
        "    t = i / num_steps\n",
        "\n",
        "    # Interpolate the joint angle from start_angle to end_angle\n",
        "    joint_angle = (1 - t) * start_angle + t * end_angle\n",
        "\n",
        "    # Calculate the x and y coordinates of the joint based on the joint angle and arm length\n",
        "    x = arm_length * np.cos(joint_angle)\n",
        "    y = arm_length * np.sin(joint_angle)\n",
        "\n",
        "    # Append the coordinates to the lists\n",
        "    x_coordinates.append(x)\n",
        "    y_coordinates.append(y)\n",
        "\n",
        "# Generate a graph of the joint position\n",
        "plt.plot(x_coordinates, y_coordinates)\n",
        "plt.xlabel('X-coordinate')\n",
        "plt.ylabel('Y-coordinate')\n",
        "plt.title('Joint Position in 2D Space')\n",
        "plt.grid(True)\n",
        "plt.show()\n"
      ]
    },
    {
      "cell_type": "code",
      "execution_count": 3,
      "metadata": {},
      "outputs": [
        {
          "name": "stdout",
          "output_type": "stream",
          "text": [
            "Joint Angle:  -0.010444491287080578\n",
            "Joint Angle:  -0.020680092748419546\n",
            "Joint Angle:  -0.030710982180531733\n",
            "Joint Angle:  -0.04054125382400168\n",
            "Joint Angle:  -0.05017492003460222\n",
            "Joint Angle:  -0.059615912920990756\n",
            "Joint Angle:  -0.06886808594965152\n",
            "Joint Angle:  -0.07793521551773906\n",
            "Joint Angle:  -0.08682100249446485\n",
            "Joint Angle:  -0.09552907373165613\n",
            "Joint Angle:  -0.10406298354410358\n",
            "Joint Angle:  -0.11242621516030209\n",
            "Joint Angle:  -0.12062218214417662\n",
            "Joint Angle:  -0.12865422978837365\n",
            "Joint Angle:  -0.13652563647968677\n",
            "Joint Angle:  -0.1442396150371736\n",
            "Joint Angle:  -0.1517993140235107\n",
            "Joint Angle:  -0.15920781903012107\n",
            "Joint Angle:  -0.16646815393659922\n",
            "Joint Angle:  -0.1735832821449478\n",
            "Joint Angle:  -0.18055610778912942\n",
            "Joint Angle:  -0.1873894769204274\n",
            "Joint Angle:  -0.19408617866909944\n",
            "Joint Angle:  -0.20064894638279804\n",
            "Joint Angle:  -0.20708045874222264\n",
            "Joint Angle:  -0.21338334085445876\n",
            "Joint Angle:  -0.21956016532445016\n",
            "Joint Angle:  -0.22561345330504173\n",
            "Joint Angle:  -0.23154567552602148\n",
            "Joint Angle:  -0.23735925330258162\n",
            "Joint Angle:  -0.24305655952361055\n",
            "Joint Angle:  -0.24863991962021892\n",
            "Joint Angle:  -0.2541116125148951\n",
            "Joint Angle:  -0.2594738715516778\n",
            "Joint Angle:  -0.2647288854077248\n",
            "Joint Angle:  -0.2698787989866509\n",
            "Joint Angle:  -0.2749257142939985\n",
            "Joint Angle:  -0.27987169129519907\n",
            "Joint Angle:  -0.28471874875637565\n",
            "Joint Angle:  -0.2894688650683287\n",
            "Joint Angle:  -0.2941239790540427\n",
            "Joint Angle:  -0.29868599076004243\n",
            "Joint Angle:  -0.30315676223192217\n",
            "Joint Angle:  -0.3075381182743643\n",
            "Joint Angle:  -0.3118318471959576\n",
            "Joint Angle:  -0.316039701539119\n",
            "Joint Angle:  -0.32016339879541716\n",
            "Joint Angle:  -0.3242046221065894\n",
            "Joint Angle:  -0.3281650209515382\n",
            "Joint Angle:  -0.33204621181958804\n",
            "Joint Angle:  -0.33584977887027684\n",
            "Joint Angle:  -0.33957727457995185\n",
            "Joint Angle:  -0.3432302203754334\n",
            "Joint Angle:  -0.3468101072550053\n",
            "Joint Angle:  -0.35031839639698575\n",
            "Joint Angle:  -0.3537565197561266\n",
            "Joint Angle:  -0.35712588064808465\n",
            "Joint Angle:  -0.36042785432220353\n",
            "Joint Angle:  -0.36366378852284004\n",
            "Joint Angle:  -0.3668350040394638\n",
            "Joint Angle:  -0.3699427952457551\n",
            "Joint Angle:  -0.37298843062792053\n",
            "Joint Angle:  -0.3759731533024427\n",
            "Joint Angle:  -0.3788981815234744\n",
            "Joint Angle:  -0.3817647091800855\n",
            "Joint Angle:  -0.38457390628356436\n",
            "Joint Angle:  -0.38732691944497366\n",
            "Joint Angle:  -0.39002487234315475\n",
            "Joint Angle:  -0.3926688661833722\n",
            "Joint Angle:  -0.3952599801467853\n",
            "Joint Angle:  -0.39779927183093017\n",
            "Joint Angle:  -0.4002877776813921\n",
            "Joint Angle:  -0.40272651341484483\n",
            "Joint Angle:  -0.4051164744336285\n",
            "Joint Angle:  -0.40745863623203654\n",
            "Joint Angle:  -0.4097539547944764\n",
            "Joint Angle:  -0.4120033669856675\n",
            "Joint Angle:  -0.41420779093303467\n",
            "Joint Angle:  -0.41636812640145454\n",
            "Joint Angle:  -0.418485255160506\n",
            "Joint Angle:  -0.42056004134437647\n",
            "Joint Angle:  -0.4225933318045695\n",
            "Joint Angle:  -0.4245859564555587\n",
            "Joint Angle:  -0.4265387286135281\n",
            "Joint Angle:  -0.4284524453283381\n",
            "Joint Angle:  -0.4303278877088519\n",
            "Joint Angle:  -0.4321658212417554\n",
            "Joint Angle:  -0.43396699610400086\n",
            "Joint Angle:  -0.4357321474690014\n",
            "Joint Angle:  -0.437461995806702\n",
            "Joint Angle:  -0.4391572471776485\n",
            "Joint Angle:  -0.4408185935211761\n",
            "Joint Angle:  -0.4424467129378331\n",
            "Joint Angle:  -0.44404226996615703\n",
            "Joint Angle:  -0.44560591585391446\n",
            "Joint Angle:  -0.44713828882391676\n",
            "Joint Angle:  -0.448640014334519\n",
            "Joint Angle:  -0.4501117053349092\n",
            "Joint Angle:  -0.45155396251529156\n",
            "Joint Angle:  -0.4529673745520663\n",
            "Joint Angle:  -0.4543525183481056\n",
            "Joint Angle:  -0.45570995926822405\n",
            "Joint Angle:  -0.45704025136994014\n",
            "Joint Angle:  -0.4583439376296219\n",
            "Joint Angle:  -0.45962155016411\n",
            "Joint Angle:  -0.46087361044790837\n",
            "Joint Angle:  -0.46210062952603076\n",
            "Joint Angle:  -0.4633031082225907\n",
            "Joint Angle:  -0.46448153734521946\n",
            "Joint Angle:  -0.4656363978853956\n",
            "Joint Angle:  -0.4667681612147683\n",
            "Joint Angle:  -0.46787728927755345\n",
            "Joint Angle:  -0.46896423477908294\n",
            "Joint Angle:  -0.47002944137058184\n",
            "Joint Angle:  -0.4710733438302508\n",
            "Joint Angle:  -0.4720963682407263\n",
            "Joint Angle:  -0.47309893216299237\n",
            "Joint Angle:  -0.4740814448068131\n",
            "Joint Angle:  -0.47504430719775737\n",
            "Joint Angle:  -0.4759879123408828\n",
            "Joint Angle:  -0.4769126453811457\n",
            "Joint Angle:  -0.47781888376060333\n",
            "Joint Angle:  -0.47870699737247185\n",
            "Joint Angle:  -0.479577348712103\n",
            "Joint Angle:  -0.4804302930249415\n",
            "Joint Angle:  -0.48126617845152325\n",
            "Joint Angle:  -0.4820853461695734\n",
            "Joint Angle:  -0.48288813053326246\n",
            "Joint Angle:  -0.4836748592096778\n",
            "Joint Angle:  -0.4844458533125648\n",
            "Joint Angle:  -0.48520142753339407\n",
            "Joint Angle:  -0.4859418902698068\n",
            "Joint Angle:  -0.4866675437514912\n",
            "Joint Angle:  -0.4873786841635419\n",
            "Joint Angle:  -0.48807560176735165\n",
            "Joint Angle:  -0.4887585810190852\n",
            "Joint Angle:  -0.48942790068578407\n",
            "Joint Angle:  -0.49008383395914895\n",
            "Joint Angle:  -0.49072664856704656\n",
            "Joint Angle:  -0.4913566068827862\n",
            "Joint Angle:  -0.49197396603221105\n",
            "Joint Angle:  -0.4925789779986474\n",
            "Joint Angle:  -0.49317188972575504\n",
            "Joint Angle:  -0.49375294321832053\n",
            "Joint Angle:  -0.4943223756410347\n",
            "Joint Angle:  -0.4948804194152946\n",
            "Joint Angle:  -0.4954273023140693\n",
            "Joint Angle:  -0.4959632475548685\n",
            "Joint Angle:  -0.49648847389085166\n",
            "Joint Angle:  -0.4970031957001152\n",
            "Joint Angle:  -0.49750762307319346\n",
            "Joint Angle:  -0.4980019618988102\n",
            "Joint Angle:  -0.49848641394791454\n",
            "Joint Angle:  -0.4989611769560368\n",
            "Joint Angle:  -0.49942644470399666\n",
            "Joint Angle:  -0.49988240709699727\n",
            "Joint Angle:  -0.5003292502421379\n",
            "Joint Angle:  -0.5007671565243758\n",
            "Joint Angle:  -0.5011963046809689\n",
            "Joint Angle:  -0.5016168698744301\n",
            "Joint Angle:  -0.5020290237640221\n",
            "Joint Angle:  -0.5024329345758223\n",
            "Joint Angle:  -0.5028287671713865\n",
            "Joint Angle:  -0.5032166831150393\n",
            "Joint Angle:  -0.5035968407398191\n",
            "Joint Angle:  -0.5039693952121034\n",
            "Joint Angle:  -0.504334498594942\n",
            "Joint Angle:  -0.5046922999101237\n",
            "Joint Angle:  -0.5050429451990017\n",
            "Joint Angle:  -0.5053865775821023\n",
            "Joint Angle:  -0.5057233373175408\n",
            "Joint Angle:  -0.5060533618582707\n",
            "Joint Angle:  -0.5063767859081858\n",
            "Joint Angle:  -0.5066937414771027\n",
            "Joint Angle:  -0.5070043579346412\n",
            "Joint Angle:  -0.5073087620630289\n",
            "Joint Angle:  -0.5076070781088489\n",
            "Joint Angle:  -0.5078994278337525\n",
            "Joint Angle:  -0.5081859305641581\n",
            "Joint Angle:  -0.5084667032399555\n",
            "Joint Angle:  -0.5087418604622369\n",
            "Joint Angle:  -0.5090115145400728\n",
            "Joint Angle:  -0.509275775536352\n",
            "Joint Angle:  -0.5095347513127055\n",
            "Joint Angle:  -0.509788547573532\n",
            "Joint Angle:  -0.510037267909142\n",
            "Joint Angle:  -0.5102810138380397\n",
            "Joint Angle:  -0.5105198848483595\n",
            "Joint Angle:  -0.5107539784384729\n",
            "Joint Angle:  -0.5109833901567841\n",
            "Joint Angle:  -0.511208213640729\n",
            "Joint Angle:  -0.511428540654995\n",
            "Joint Angle:  -0.5116444611289757\n",
            "Joint Angle:  -0.5118560631934768\n",
            "Joint Angle:  -0.5120634332166878\n",
            "Joint Angle:  -0.5122666558394346\n",
            "Joint Angle:  -0.5124658140097266\n",
            "Joint Angle:  -0.5126609890166126\n",
            "Joint Angle:  -0.512852260523361\n",
            "Joint Angle:  -0.5130397065999743\n",
            "Joint Angle:  -0.5132234037550554\n",
            "Joint Angle:  -0.5134034269670348\n",
            "Joint Angle:  -0.5135798497147747\n",
            "Joint Angle:  -0.5137527440075598\n",
            "Joint Angle:  -0.5139221804144891\n",
            "Joint Angle:  -0.5140882280932799\n",
            "Joint Angle:  -0.5142509548184949\n",
            "Joint Angle:  -0.5144104270092056\n",
            "Joint Angle:  -0.5145667097561021\n",
            "Joint Angle:  -0.5147198668480606\n",
            "Joint Angle:  -0.5148699607981799\n",
            "Joint Angle:  -0.5150170528692969\n",
            "Joint Angle:  -0.5151612030989915\n",
            "Joint Angle:  -0.5153024703240923\n",
            "Joint Angle:  -0.515440912204691\n",
            "Joint Angle:  -0.5155765852476778\n",
            "Joint Angle:  -0.5157095448298048\n",
            "Joint Angle:  -0.5158398452202893\n",
            "Joint Angle:  -0.515967539602964\n",
            "Joint Angle:  -0.5160926800979854\n",
            "Joint Angle:  -0.5162153177831063\n",
            "Joint Angle:  -0.5163355027145247\n",
            "Joint Angle:  -0.5164532839473147\n",
            "Joint Angle:  -0.516568709555449\n",
            "Joint Angle:  -0.5166818266514206\n",
            "Joint Angle:  -0.5167926814054727\n",
            "Joint Angle:  -0.5169013190644438\n",
            "Joint Angle:  -0.5170077839702355\n",
            "Joint Angle:  -0.5171121195779114\n",
            "Joint Angle:  -0.5172143684734337\n",
            "Joint Angle:  -0.5173145723910456\n",
            "Joint Angle:  -0.5174127722303052\n",
            "Joint Angle:  -0.5175090080727797\n",
            "Joint Angle:  -0.5176033191984046\n",
            "Joint Angle:  -0.5176957441015171\n",
            "Joint Angle:  -0.5177863205065674\n",
            "Joint Angle:  -0.5178750853835166\n",
            "Joint Angle:  -0.5179620749629268\n",
            "Joint Angle:  -0.5180473247507488\n",
            "Joint Angle:  -0.5181308695428144\n",
            "Joint Angle:  -0.5182127434390387\n",
            "Joint Angle:  -0.5182929798573385\n",
            "Joint Angle:  -0.5183716115472723\n",
            "Joint Angle:  -0.5184486706034074\n",
            "Joint Angle:  -0.5185241884784197\n",
            "Joint Angle:  -0.5185981959959319\n",
            "Joint Angle:  -0.5186707233630938\n",
            "Joint Angle:  -0.5187418001829125\n",
            "Joint Angle:  -0.5188114554663348\n",
            "Joint Angle:  -0.5188797176440887\n",
            "Joint Angle:  -0.5189466145782875\n",
            "Joint Angle:  -0.5190121735738024\n",
            "Joint Angle:  -0.5190764213894069\n",
            "Joint Angle:  -0.5191393842486993\n",
            "Joint Angle:  -0.5192010878508059\n",
            "Joint Angle:  -0.5192615573808703\n",
            "Joint Angle:  -0.5193208175203334\n",
            "Joint Angle:  -0.5193788924570073\n",
            "Joint Angle:  -0.5194358058949478\n",
            "Joint Angle:  -0.5194915810641294\n",
            "Joint Angle:  -0.5195462407299274\n",
            "Joint Angle:  -0.5195998072024094\n",
            "Joint Angle:  -0.5196523023454418\n",
            "Joint Angle:  -0.5197037475856136\n",
            "Joint Angle:  -0.5197541639209818\n",
            "Joint Angle:  -0.5198035719296428\n",
            "Joint Angle:  -0.5198519917781305\n",
            "Joint Angle:  -0.5198994432296484\n",
            "Joint Angle:  -0.519945945652136\n",
            "Joint Angle:  -0.5199915180261738\n",
            "Joint Angle:  -0.5200361789527309\n",
            "Joint Angle:  -0.5200799466607569\n",
            "Joint Angle:  -0.5201228390146223\n",
            "Joint Angle:  -0.5201648735214104\n",
            "Joint Angle:  -0.5202060673380627\n",
            "Joint Angle:  -0.520246437278382\n",
            "Joint Angle:  -0.520285999819895\n",
            "Joint Angle:  -0.5203247711105776\n",
            "Joint Angle:  -0.5203627669754466\n",
            "Joint Angle:  -0.5204000029230182\n",
            "Joint Angle:  -0.5204364941516384\n",
            "Joint Angle:  -0.5204722555556862\n",
            "Joint Angle:  -0.520507301731653\n",
            "Joint Angle:  -0.5205416469841005\n",
            "Joint Angle:  -0.5205753053314991\n",
            "Joint Angle:  -0.5206082905119497\n",
            "Joint Angle:  -0.5206406159887913\n",
            "Joint Angle:  -0.520672294956096\n",
            "Joint Angle:  -0.5207033403440546\n",
            "Joint Angle:  -0.5207337648242542\n",
            "Joint Angle:  -0.5207635808148496\n",
            "Joint Angle:  -0.5207928004856333\n",
            "Joint Angle:  -0.5208214357630011\n",
            "Joint Angle:  -0.5208494983348216\n",
            "Joint Angle:  -0.5208769996552057\n",
            "Joint Angle:  -0.5209039509491822\n",
            "Joint Angle:  -0.5209303632172791\n",
            "Joint Angle:  -0.5209562472400141\n",
            "Joint Angle:  -0.5209816135822943\n",
            "Joint Angle:  -0.521006472597729\n",
            "Joint Angle:  -0.521030834432855\n",
            "Joint Angle:  -0.5210547090312785\n",
            "Joint Angle:  -0.5210781061377335\n",
            "Joint Angle:  -0.5211010353020594\n",
            "Joint Angle:  -0.5211235058830987\n",
            "Joint Angle:  -0.5211455270525174\n",
            "Joint Angle:  -0.5211671077985476\n",
            "Joint Angle:  -0.5211882569296572\n",
            "Joint Angle:  -0.5212089830781447\n",
            "Joint Angle:  -0.5212292947036623\n",
            "Joint Angle:  -0.5212492000966696\n",
            "Joint Angle:  -0.5212687073818169\n",
            "Joint Angle:  -0.5212878245212611\n",
            "Joint Angle:  -0.5213065593179165\n",
            "Joint Angle:  -0.5213249194186387\n",
            "Joint Angle:  -0.5213429123173464\n",
            "Joint Angle:  -0.5213605453580801\n",
            "Joint Angle:  -0.5213778257379991\n",
            "Joint Angle:  -0.5213947605103196\n",
            "Joint Angle:  -0.5214113565871938\n",
            "Joint Angle:  -0.5214276207425306\n",
            "Joint Angle:  -0.5214435596147605\n",
            "Joint Angle:  -0.5214591797095459\n",
            "Joint Angle:  -0.5214744874024355\n",
            "Joint Angle:  -0.5214894889414674\n",
            "Joint Angle:  -0.5215041904497186\n",
            "Joint Angle:  -0.5215185979278049\n",
            "Joint Angle:  -0.5215327172563293\n",
            "Joint Angle:  -0.5215465541982833\n",
            "Joint Angle:  -0.5215601144013983\n",
            "Joint Angle:  -0.5215734034004509\n",
            "Joint Angle:  -0.5215864266195225\n",
            "Joint Angle:  -0.5215991893742126\n",
            "Joint Angle:  -0.5216116968738089\n",
            "Joint Angle:  -0.5216239542234133\n",
            "Joint Angle:  -0.5216359664260256\n",
            "Joint Angle:  -0.5216477383845857\n",
            "Joint Angle:  -0.5216592749039746\n",
            "Joint Angle:  -0.5216705806929757\n",
            "Joint Angle:  -0.5216816603661967\n",
            "Joint Angle:  -0.5216925184459533\n",
            "Joint Angle:  -0.5217031593641148\n",
            "Joint Angle:  -0.521713587463913\n",
            "Joint Angle:  -0.5217238070017154\n",
            "Joint Angle:  -0.5217338221487616\n",
            "Joint Angle:  -0.521743636992867\n",
            "Joint Angle:  -0.5217532555400902\n",
            "Joint Angle:  -0.521762681716369\n",
            "Joint Angle:  -0.5217719193691222\n",
            "Joint Angle:  -0.5217809722688203\n",
            "Joint Angle:  -0.5217898441105244\n",
            "Joint Angle:  -0.5217985385153945\n",
            "Joint Angle:  -0.5218070590321672\n",
            "Joint Angle:  -0.5218154091386044\n",
            "Joint Angle:  -0.5218235922429129\n",
            "Joint Angle:  -0.5218316116851351\n",
            "Joint Angle:  -0.521839470738513\n",
            "Joint Angle:  -0.5218471726108234\n",
            "Joint Angle:  -0.5218547204456875\n",
            "Joint Angle:  -0.5218621173238543\n",
            "Joint Angle:  -0.5218693662644578\n",
            "Joint Angle:  -0.5218764702262492\n",
            "Joint Angle:  -0.5218834321088047\n",
            "Joint Angle:  -0.5218902547537092\n",
            "Joint Angle:  -0.5218969409457156\n",
            "Joint Angle:  -0.5219034934138819\n",
            "Joint Angle:  -0.5219099148326848\n",
            "Joint Angle:  -0.5219162078231117\n",
            "Joint Angle:  -0.52192237495373\n",
            "Joint Angle:  -0.5219284187417359\n",
            "Joint Angle:  -0.5219343416539818\n",
            "Joint Angle:  -0.5219401461079827\n",
            "Joint Angle:  -0.5219458344729035\n",
            "Joint Angle:  -0.5219514090705261\n",
            "Joint Angle:  -0.5219568721761961\n",
            "Joint Angle:  -0.5219622260197527\n",
            "Joint Angle:  -0.5219674727864383\n",
            "Joint Angle:  -0.5219726146177901\n",
            "Joint Angle:  -0.5219776536125149\n",
            "Joint Angle:  -0.5219825918273452\n",
            "Joint Angle:  -0.5219874312778788\n",
            "Joint Angle:  -0.5219921739394018\n",
            "Joint Angle:  -0.5219968217476944\n",
            "Joint Angle:  -0.522001376599821\n",
            "Joint Angle:  -0.5220058403549052\n",
            "Joint Angle:  -0.5220102148348876\n",
            "Joint Angle:  -0.5220145018252704\n",
            "Joint Angle:  -0.5220187030758456\n",
            "Joint Angle:  -0.5220228203014093\n",
            "Joint Angle:  -0.5220268551824617\n",
            "Joint Angle:  -0.5220308093658931\n",
            "Joint Angle:  -0.5220346844656558\n",
            "Joint Angle:  -0.5220384820634233\n",
            "Joint Angle:  -0.5220422037092354\n",
            "Joint Angle:  -0.5220458509221312\n",
            "Joint Angle:  -0.5220494251907691\n",
            "Joint Angle:  -0.5220529279740344\n",
            "Joint Angle:  -0.5220563607016342\n",
            "Joint Angle:  -0.5220597247746821\n",
            "Joint Angle:  -0.522063021566269\n",
            "Joint Angle:  -0.5220662524220242\n",
            "Joint Angle:  -0.5220694186606643\n",
            "Joint Angle:  -0.5220725215745315\n",
            "Joint Angle:  -0.5220755624301214\n",
            "Joint Angle:  -0.5220785424685995\n",
            "Joint Angle:  -0.5220814629063081\n",
            "Joint Angle:  -0.5220843249352625\n",
            "Joint Angle:  -0.5220871297236378\n",
            "Joint Angle:  -0.5220898784162457\n",
            "Joint Angle:  -0.5220925721350013\n",
            "Joint Angle:  -0.5220952119793818\n",
            "Joint Angle:  -0.5220977990268747\n",
            "Joint Angle:  -0.5221003343334177\n",
            "Joint Angle:  -0.5221028189338299\n",
            "Joint Angle:  -0.5221052538422339\n",
            "Joint Angle:  -0.5221076400524698\n",
            "Joint Angle:  -0.5221099785385009\n",
            "Joint Angle:  -0.5221122702548114\n",
            "Joint Angle:  -0.5221145161367958\n",
            "Joint Angle:  -0.5221167171011405\n",
            "Joint Angle:  -0.5221188740461983\n",
            "Joint Angle:  -0.5221209878523548\n",
            "Joint Angle:  -0.5221230593823883\n",
            "Joint Angle:  -0.5221250894818211\n",
            "Joint Angle:  -0.5221270789792652\n",
            "Joint Angle:  -0.5221290286867605\n",
            "Joint Angle:  -0.5221309394001058\n",
            "Joint Angle:  -0.5221328118991843\n",
            "Joint Angle:  -0.5221346469482812\n",
            "Joint Angle:  -0.5221364452963961\n",
            "Joint Angle:  -0.5221382076775488\n",
            "Joint Angle:  -0.5221399348110785\n",
            "Joint Angle:  -0.5221416274019375\n",
            "Joint Angle:  -0.5221432861409793\n",
            "Joint Angle:  -0.5221449117052402\n",
            "Joint Angle:  -0.522146504758216\n",
            "Joint Angle:  -0.5221480659501323\n",
            "Joint Angle:  -0.5221495959182102\n",
            "Joint Angle:  -0.5221510952869266\n",
            "Joint Angle:  -0.5221525646682686\n",
            "Joint Angle:  -0.5221540046619838\n",
            "Joint Angle:  -0.5221554158558247\n",
            "Joint Angle:  -0.5221567988257888\n",
            "Joint Angle:  -0.5221581541363536\n",
            "Joint Angle:  -0.5221594823407071\n",
            "Joint Angle:  -0.5221607839809735\n",
            "Joint Angle:  -0.5221620595884346\n",
            "Joint Angle:  -0.5221633096837465\n",
            "Joint Angle:  -0.5221645347771521\n",
            "Joint Angle:  -0.5221657353686896\n",
            "Joint Angle:  -0.5221669119483964\n",
            "Joint Angle:  -0.522168064996509\n",
            "Joint Angle:  -0.5221691949836594\n",
            "Joint Angle:  -0.5221703023710668\n",
            "Joint Angle:  -0.522171387610726\n",
            "Joint Angle:  -0.5221724511455921\n",
            "Joint Angle:  -0.5221734934097608\n",
            "Joint Angle:  -0.5221745148286462\n",
            "Joint Angle:  -0.5221755158191538\n",
            "Joint Angle:  -0.5221764967898512\n",
            "Joint Angle:  -0.5221774581411348\n",
            "Joint Angle:  -0.5221784002653926\n",
            "Joint Angle:  -0.5221793235471653\n",
            "Joint Angle:  -0.5221802283633026\n",
            "Joint Angle:  -0.522181115083117\n",
            "Joint Angle:  -0.5221819840685352\n",
            "Joint Angle:  -0.5221828356742451\n",
            "Joint Angle:  -0.5221836702478407\n",
            "Joint Angle:  -0.5221844881299645\n",
            "Joint Angle:  -0.5221852896544458\n",
            "Joint Angle:  -0.5221860751484374\n",
            "Joint Angle:  -0.5221868449325492\n",
            "Joint Angle:  -0.5221875993209788\n",
            "Joint Angle:  -0.5221883386216398\n",
            "Joint Angle:  -0.5221890631362875\n",
            "Joint Angle:  -0.5221897731606424\n",
            "Joint Angle:  -0.5221904689845102\n",
            "Joint Angle:  -0.5221911508919005\n",
            "Joint Angle:  -0.5221918191611431\n",
            "Joint Angle:  -0.5221924740650008\n",
            "Joint Angle:  -0.5221931158707813\n",
            "Joint Angle:  -0.5221937448404462\n",
            "Joint Angle:  -0.5221943612307178\n",
            "Joint Angle:  -0.522194965293184\n",
            "Joint Angle:  -0.5221955572744009\n",
            "Joint Angle:  -0.5221961374159935\n",
            "Joint Angle:  -0.5221967059547542\n",
            "Joint Angle:  -0.5221972631227397\n",
            "Joint Angle:  -0.5221978091473655\n",
            "Joint Angle:  -0.5221983442514987\n",
            "Joint Angle:  -0.5221988686535493\n",
            "Joint Angle:  -0.5221993825675588\n",
            "Joint Angle:  -0.5221998862032882\n",
            "Joint Angle:  -0.522200379766303\n",
            "Joint Angle:  -0.5222008634580575\n",
            "Joint Angle:  -0.522201337475977\n",
            "Joint Angle:  -0.5222018020135379\n",
            "Joint Angle:  -0.5222022572603477\n",
            "Joint Angle:  -0.5222027034022214\n",
            "Joint Angle:  -0.5222031406212575\n"
          ]
        },
        {
          "data": {
            "text/plain": [
              "[<matplotlib.lines.Line2D at 0x7fc260ae75e0>]"
            ]
          },
          "execution_count": 3,
          "metadata": {},
          "output_type": "execute_result"
        },
        {
          "data": {
            "image/png": "[encoded data removed]",
            "text/plain": [
              "<Figure size 640x480 with 1 Axes>"
            ]
          },
          "metadata": {},
          "output_type": "display_data"
        }
      ],
      "source": [
        "import numpy as np\n",
        "import matplotlib.pyplot as plt\n",
        "from math import cos, sin, pi, atan2, sqrt\n",
        "\n",
        "# Sensor data (accelerometer, gyroscope, and magnetometer readings)\n",
        "accel_data = np.array([0.1, 0.2, 9.7])  # Accelerometer data (m/s^2)\n",
        "gyro_data = np.array([0.01, 0.02, 0.03])  # Gyroscope data (rad/s)\n",
        "mag_data = np.array([50, -20, 30])  # Magnetometer data (microtesla)\n",
        "\n",
        "# Constants for sensor fusion\n",
        "beta = 0.98  # Gyroscope drift compensation factor\n",
        "\n",
        "# Initial joint angle and target joint angle\n",
        "joint_angle = 0.0  # radians\n",
        "target_angle = np.pi/2  # radians\n",
        "\n",
        "# Duration and time step\n",
        "duration = 5.0  # seconds\n",
        "dt = 0.01  # seconds\n",
        "num_iterations = int(duration / dt)\n",
        "\n",
        "def update_pose(accel, gyro, mag, dt):\n",
        "    global joint_angle  # Declare joint_angle as a global variable\n",
        "    \n",
        "    # Convert sensor data to numpy arrays\n",
        "    accel = np.array(accel, dtype=np.float64)\n",
        "    gyro = np.array(gyro, dtype=np.float64)\n",
        "    mag = np.array(mag, dtype=np.float64)\n",
        "    \n",
        "    # Normalize accelerometer data\n",
        "    accel /= np.linalg.norm(accel)\n",
        "    \n",
        "    # Normalize magnetometer data\n",
        "    mag /= np.linalg.norm(mag)\n",
        "    \n",
        "    # Calculate pitch and roll angles from accelerometer data\n",
        "    pitch = atan2(accel[1], sqrt(accel[0]**2 + accel[2]**2))\n",
        "    roll = atan2(-accel[0], accel[2])\n",
        "    \n",
        "    # Calculate yaw angle from magnetometer data\n",
        "    mag_yaw = atan2(mag[1]*sin(roll) - mag[2]*cos(roll), mag[0]*cos(pitch) + mag[1]*sin(pitch)*sin(roll) + mag[2]*sin(pitch)*cos(roll))\n",
        "    \n",
        "    # Update joint angle based on gyroscope data\n",
        "    joint_angle += gyro[1] * dt\n",
        "    \n",
        "    # Fuse gyroscope and magnetometer data to compensate for gyroscope drift\n",
        "    fused_angle = beta * joint_angle + (1 - beta) * mag_yaw\n",
        "    \n",
        "    return fused_angle\n",
        "\n",
        "# Lists to store joint position coordinates\n",
        "x_coordinates = []\n",
        "y_coordinates = []\n",
        "\n",
        "# Main loop\n",
        "for i in range(num_iterations):\n",
        "    # Calculate the interpolation factor (0 to 1) based on time\n",
        "    t = i * dt / duration\n",
        "    \n",
        "    # Interpolate the target joint angle from point A to point B\n",
        "    interpolated_angle = (1 - t) * joint_angle + t * target_angle\n",
        "    \n",
        "    # Set the target joint angle for the next iteration\n",
        "    target_angle = interpolated_angle\n",
        "    \n",
        "    # Call update_pose function to update the body pose\n",
        "    joint_angle = update_pose(accel_data, gyro_data, mag_data, dt)\n",
        "    \n",
        "    # Calculate the x and y coordinates of the joint based on the joint angle and arm length\n",
        "    x = cos(joint_angle)\n",
        "    y = sin(joint_angle)\n",
        "    \n",
        "    # Append the coordinates to the lists\n",
        "    x_coordinates.append(x)\n",
        "    y_coordinates.append(y)\n",
        "    \n",
        "    # Print the joint angle representing the body pose\n",
        "    print(\"Joint Angle: \", joint_angle)\n",
        "\n",
        "# Generate a graph of the joint position\n",
        "plt.plot(x_coordinates, y_coordinates)\n"
      ]
    },
    {
      "cell_type": "code",
      "execution_count": 16,
      "metadata": {},
      "outputs": [
        {
          "data": {
            "text/plain": [
              "0.02267773564901833"
            ]
          },
          "execution_count": 16,
          "metadata": {},
          "output_type": "execute_result"
        }
      ],
      "source": [
        "orientation.x"
      ]
    },
    {
      "cell_type": "code",
      "execution_count": 17,
      "metadata": {},
      "outputs": [
        {
          "data": {
            "text/plain": [
              "-0.04097995572203276"
            ]
          },
          "execution_count": 17,
          "metadata": {},
          "output_type": "execute_result"
        }
      ],
      "source": [
        "orientation.y"
      ]
    },
    {
      "cell_type": "code",
      "execution_count": 18,
      "metadata": {},
      "outputs": [
        {
          "data": {
            "text/plain": [
              "0.024414435582802915"
            ]
          },
          "execution_count": 18,
          "metadata": {},
          "output_type": "execute_result"
        }
      ],
      "source": [
        "orientation.z"
      ]
    },
    {
      "cell_type": "code",
      "execution_count": 2,
      "metadata": {
        "cellView": "form",
        "id": "tuOe1ymfHZPu"
      },
      "outputs": [],
      "source": [
        "#@title Licensed under the Apache License, Version 2.0 (the \"License\");\n",
        "# you may not use this file except in compliance with the License.\n",
        "# You may obtain a copy of the License at\n",
        "#\n",
        "# https://www.apache.org/licenses/LICENSE-2.0\n",
        "#\n",
        "# Unless required by applicable law or agreed to in writing, software\n",
        "# distributed under the License is distributed on an \"AS IS\" BASIS,\n",
        "# WITHOUT WARRANTIES OR CONDITIONS OF ANY KIND, either express or implied.\n",
        "# See the License for the specific language governing permissions and\n",
        "# limitations under the License."
      ]
    },
    {
      "attachments": {},
      "cell_type": "markdown",
      "metadata": {
        "id": "qFdPvlXBOdUN"
      },
      "source": [
        "# Robust machine learning on streaming data using Kafka and Tensorflow-IO"
      ]
    },
    {
      "attachments": {},
      "cell_type": "markdown",
      "metadata": {
        "id": "MfBg1C5NB3X0"
      },
      "source": [
        "<table class=\"tfo-notebook-buttons\" align=\"left\">\n",
        "  <td>\n",
        "    <a target=\"_blank\" href=\"https://www.tensorflow.org/io/tutorials/kafka\"><img src=\"https://www.tensorflow.org/images/tf_logo_32px.png\" />View on TensorFlow.org</a>\n",
        "  </td>\n",
        "  <td>\n",
        "    <a target=\"_blank\" href=\"https://colab.research.google.com/github/tensorflow/io/blob/master/docs/tutorials/kafka.ipynb\"><img src=\"https://www.tensorflow.org/images/colab_logo_32px.png\" />Run in Google Colab</a>\n",
        "  </td>\n",
        "  <td>\n",
        "    <a target=\"_blank\" href=\"https://github.com/tensorflow/io/blob/master/docs/tutorials/kafka.ipynb\"><img src=\"https://www.tensorflow.org/images/GitHub-Mark-32px.png\" />View source on GitHub</a>\n",
        "  </td>\n",
        "      <td>\n",
        "    <a href=\"https://storage.googleapis.com/tensorflow_docs/io/docs/tutorials/kafka.ipynb\"><img src=\"https://www.tensorflow.org/images/download_logo_32px.png\" />Download notebook</a>\n",
        "  </td>\n",
        "</table>"
      ]
    },
    {
      "attachments": {},
      "cell_type": "markdown",
      "metadata": {
        "id": "xHxb-dlhMIzW"
      },
      "source": [
        "## Overview\n",
        "\n",
        "This tutorial focuses on streaming data from a [Kafka](https://kafka.apache.org/quickstart) cluster into a `tf.data.Dataset` which is then used in conjunction with `tf.keras` for training and inference.\n",
        "\n",
        "Kafka is primarily a distributed event-streaming platform which provides scalable and fault-tolerant streaming data across data pipelines. It is an essential technical component of a plethora of major enterprises where mission-critical data delivery is a primary requirement.\n",
        "\n",
        "**NOTE:** A basic understanding of the [kafka components](https://kafka.apache.org/documentation/#intro_concepts_and_terms) will help you in following the tutorial with ease.\n",
        "\n",
        "**NOTE:** A Java runtime environment is required to run this tutorial."
      ]
    },
    {
      "attachments": {},
      "cell_type": "markdown",
      "metadata": {
        "id": "MUXex9ctTuDB"
      },
      "source": [
        "## Setup"
      ]
    },
    {
      "attachments": {},
      "cell_type": "markdown",
      "metadata": {
        "id": "upgCc3gXybsA"
      },
      "source": [
        "### Install the required tensorflow-io and kafka packages"
      ]
    },
    {
      "cell_type": "code",
      "execution_count": 3,
      "metadata": {
        "colab": {
          "base_uri": "https://localhost:8080/"
        },
        "id": "48B9eAMMhAgw",
        "outputId": "0e9eab58-2db3-407f-87cf-cea7c64ddfed"
      },
      "outputs": [],
      "source": [
        "# !pip install tensorflow-io\n",
        "# !pip install kafka-python"
      ]
    },
    {
      "attachments": {},
      "cell_type": "markdown",
      "metadata": {
        "id": "gjrZNJQRJP-U"
      },
      "source": [
        "### Import packages"
      ]
    },
    {
      "cell_type": "code",
      "execution_count": 4,
      "metadata": {},
      "outputs": [
        {
          "data": {
            "text/plain": [
              "[('hello', 'world')]"
            ]
          },
          "execution_count": 4,
          "metadata": {},
          "output_type": "execute_result"
        }
      ],
      "source": [
        "items = {'hello': 'world'}\n",
        "\n",
        "list(zip(items.keys(), items.values()))"
      ]
    },
    {
      "cell_type": "code",
      "execution_count": 5,
      "metadata": {
        "id": "m6KXZuTBWgRm"
      },
      "outputs": [
        {
          "name": "stderr",
          "output_type": "stream",
          "text": [
            "2023-06-28 19:02:46.340548: I tensorflow/tsl/cuda/cudart_stub.cc:28] Could not find cuda drivers on your machine, GPU will not be used.\n",
            "2023-06-28 19:02:46.407421: I tensorflow/tsl/cuda/cudart_stub.cc:28] Could not find cuda drivers on your machine, GPU will not be used.\n",
            "2023-06-28 19:02:46.408151: I tensorflow/core/platform/cpu_feature_guard.cc:182] This TensorFlow binary is optimized to use available CPU instructions in performance-critical operations.\n",
            "To enable the following instructions: AVX2 FMA, in other operations, rebuild TensorFlow with the appropriate compiler flags.\n",
            "2023-06-28 19:02:47.432955: W tensorflow/compiler/tf2tensorrt/utils/py_utils.cc:38] TF-TRT Warning: Could not find TensorRT\n"
          ]
        }
      ],
      "source": [
        "import os\n",
        "from datetime import datetime\n",
        "import time\n",
        "import threading\n",
        "import json\n",
        "from sklearn.model_selection import train_test_split\n",
        "import pandas as pd\n",
        "import tensorflow as tf\n",
        "import tensorflow_io as tfio"
      ]
    },
    {
      "attachments": {},
      "cell_type": "markdown",
      "metadata": {
        "id": "eCgO11GTJaTj"
      },
      "source": [
        "### Validate tf and tfio imports"
      ]
    },
    {
      "cell_type": "code",
      "execution_count": 6,
      "metadata": {
        "colab": {
          "base_uri": "https://localhost:8080/"
        },
        "id": "dX74RKfZ_TdF",
        "outputId": "1b7d083d-b3a6-4c84-f43f-fc1851c8ee2c"
      },
      "outputs": [
        {
          "name": "stdout",
          "output_type": "stream",
          "text": [
            "tensorflow-io version: 0.32.0\n",
            "tensorflow version: 2.12.0\n"
          ]
        }
      ],
      "source": [
        "print(\"tensorflow-io version: {}\".format(tfio.__version__))\n",
        "print(\"tensorflow version: {}\".format(tf.__version__))"
      ]
    },
    {
      "attachments": {},
      "cell_type": "markdown",
      "metadata": {
        "id": "yZmI7l_GykcW"
      },
      "source": [
        "## Download and setup Kafka and Zookeeper instances\n",
        "\n",
        "For demo purposes, the following instances are setup locally:\n",
        "\n",
        "- Kafka (Brokers: 127.0.0.1:9092)\n",
        "- Zookeeper (Node: 127.0.0.1:2181)\n"
      ]
    },
    {
      "cell_type": "code",
      "execution_count": 7,
      "metadata": {
        "colab": {
          "base_uri": "https://localhost:8080/"
        },
        "id": "YUj0878jPyz7",
        "outputId": "255051f9-3527-46dc-cb2a-9d5e25de7b6d"
      },
      "outputs": [],
      "source": [
        "# !curl -sSOL https://dlcdn.apache.org/kafka/3.5.0/kafka_2.13-3.5.0.tgz\n",
        "# !tar -xzf kafka_2.13-3.5.0.tgz"
      ]
    },
    {
      "attachments": {},
      "cell_type": "markdown",
      "metadata": {
        "id": "vAzfu_WiEs4F"
      },
      "source": [
        "Using the default configurations (provided by Apache Kafka) for spinning up the instances."
      ]
    },
    {
      "cell_type": "code",
      "execution_count": 8,
      "metadata": {
        "colab": {
          "base_uri": "https://localhost:8080/"
        },
        "id": "n9ujlunrWgRx",
        "outputId": "f3cf7262-43a8-4e74-d8d1-4c81c716f605"
      },
      "outputs": [
        {
          "name": "stdout",
          "output_type": "stream",
          "text": [
            "Waiting for 10 secs until kafka and zookeeper services are up and running\n"
          ]
        }
      ],
      "source": [
        "!./kafka_2.13-3.5.0/bin/zookeeper-server-start.sh -daemon ./kafka_2.13-3.5.0/config/zookeeper.properties\n",
        "!./kafka_2.13-3.5.0/bin/kafka-server-start.sh -daemon ./kafka_2.13-3.5.0/config/server.properties\n",
        "!echo \"Waiting for 10 secs until kafka and zookeeper services are up and running\"\n",
        "!sleep 10"
      ]
    },
    {
      "attachments": {},
      "cell_type": "markdown",
      "metadata": {
        "id": "f6qxCdypE1DD"
      },
      "source": [
        "Once the instances are started as daemon processes, grep for `kafka` in the processes list. The two java processes correspond to zookeeper and the kafka instances."
      ]
    },
    {
      "cell_type": "code",
      "execution_count": 9,
      "metadata": {
        "colab": {
          "base_uri": "https://localhost:8080/"
        },
        "id": "48LqMJ1BEHm5",
        "outputId": "d6190c31-10cd-4be2-92c0-6e56e8697948"
      },
      "outputs": [
        {
          "name": "stdout",
          "output_type": "stream",
          "text": [
            "paulo       9557    2590  0 13:15 ?        00:00:38 java -Xmx512M -Xms512M -server -XX:+UseG1GC -XX:MaxGCPauseMillis=20 -XX:InitiatingHeapOccupancyPercent=35 -XX:+ExplicitGCInvokesConcurrent -XX:MaxInlineLevel=15 -Djava.awt.headless=true -Xlog:gc*:file=/home/paulo/Documents/sword-health-ml/utils/kafka_2.13-3.5.0/bin/../logs/zookeeper-gc.log:time,tags:filecount=10,filesize=100M -Dcom.sun.management.jmxremote -Dcom.sun.management.jmxremote.authenticate=false -Dcom.sun.management.jmxremote.ssl=false -Dkafka.logs.dir=/home/paulo/Documents/sword-health-ml/utils/kafka_2.13-3.5.0/bin/../logs -Dlog4j.configuration=file:./kafka_2.13-3.5.0/bin/../config/log4j.properties -cp /home/paulo/Documents/sword-health-ml/utils/kafka_2.13-3.5.0/bin/../libs/activation-1.1.1.jar:/home/paulo/Documents/sword-health-ml/utils/kafka_2.13-3.5.0/bin/../libs/aopalliance-repackaged-2.6.1.jar:/home/paulo/Documents/sword-health-ml/utils/kafka_2.13-3.5.0/bin/../libs/argparse4j-0.7.0.jar:/home/paulo/Documents/sword-health-ml/utils/kafka_2.13-3.5.0/bin/../libs/audience-annotations-0.13.0.jar:/home/paulo/Documents/sword-health-ml/utils/kafka_2.13-3.5.0/bin/../libs/commons-cli-1.4.jar:/home/paulo/Documents/sword-health-ml/utils/kafka_2.13-3.5.0/bin/../libs/commons-lang3-3.8.1.jar:/home/paulo/Documents/sword-health-ml/utils/kafka_2.13-3.5.0/bin/../libs/connect-api-3.5.0.jar:/home/paulo/Documents/sword-health-ml/utils/kafka_2.13-3.5.0/bin/../libs/connect-basic-auth-extension-3.5.0.jar:/home/paulo/Documents/sword-health-ml/utils/kafka_2.13-3.5.0/bin/../libs/connect-json-3.5.0.jar:/home/paulo/Documents/sword-health-ml/utils/kafka_2.13-3.5.0/bin/../libs/connect-mirror-3.5.0.jar:/home/paulo/Documents/sword-health-ml/utils/kafka_2.13-3.5.0/bin/../libs/connect-mirror-client-3.5.0.jar:/home/paulo/Documents/sword-health-ml/utils/kafka_2.13-3.5.0/bin/../libs/connect-runtime-3.5.0.jar:/home/paulo/Documents/sword-health-ml/utils/kafka_2.13-3.5.0/bin/../libs/connect-transforms-3.5.0.jar:/home/paulo/Documents/sword-health-ml/utils/kafka_2.13-3.5.0/bin/../libs/hk2-api-2.6.1.jar:/home/paulo/Documents/sword-health-ml/utils/kafka_2.13-3.5.0/bin/../libs/hk2-locator-2.6.1.jar:/home/paulo/Documents/sword-health-ml/utils/kafka_2.13-3.5.0/bin/../libs/hk2-utils-2.6.1.jar:/home/paulo/Documents/sword-health-ml/utils/kafka_2.13-3.5.0/bin/../libs/jackson-annotations-2.13.5.jar:/home/paulo/Documents/sword-health-ml/utils/kafka_2.13-3.5.0/bin/../libs/jackson-core-2.13.5.jar:/home/paulo/Documents/sword-health-ml/utils/kafka_2.13-3.5.0/bin/../libs/jackson-databind-2.13.5.jar:/home/paulo/Documents/sword-health-ml/utils/kafka_2.13-3.5.0/bin/../libs/jackson-dataformat-csv-2.13.5.jar:/home/paulo/Documents/sword-health-ml/utils/kafka_2.13-3.5.0/bin/../libs/jackson-datatype-jdk8-2.13.5.jar:/home/paulo/Documents/sword-health-ml/utils/kafka_2.13-3.5.0/bin/../libs/jackson-jaxrs-base-2.13.5.jar:/home/paulo/Documents/sword-health-ml/utils/kafka_2.13-3.5.0/bin/../libs/jackson-jaxrs-json-provider-2.13.5.jar:/home/paulo/Documents/sword-health-ml/utils/kafka_2.13-3.5.0/bin/../libs/jackson-module-jaxb-annotations-2.13.5.jar:/home/paulo/Documents/sword-health-ml/utils/kafka_2.13-3.5.0/bin/../libs/jackson-module-scala_2.13-2.13.5.jar:/home/paulo/Documents/sword-health-ml/utils/kafka_2.13-3.5.0/bin/../libs/jakarta.activation-api-1.2.2.jar:/home/paulo/Documents/sword-health-ml/utils/kafka_2.13-3.5.0/bin/../libs/jakarta.annotation-api-1.3.5.jar:/home/paulo/Documents/sword-health-ml/utils/kafka_2.13-3.5.0/bin/../libs/jakarta.inject-2.6.1.jar:/home/paulo/Documents/sword-health-ml/utils/kafka_2.13-3.5.0/bin/../libs/jakarta.validation-api-2.0.2.jar:/home/paulo/Documents/sword-health-ml/utils/kafka_2.13-3.5.0/bin/../libs/jakarta.ws.rs-api-2.1.6.jar:/home/paulo/Documents/sword-health-ml/utils/kafka_2.13-3.5.0/bin/../libs/jakarta.xml.bind-api-2.3.3.jar:/home/paulo/Documents/sword-health-ml/utils/kafka_2.13-3.5.0/bin/../libs/javassist-3.29.2-GA.jar:/home/paulo/Documents/sword-health-ml/utils/kafka_2.13-3.5.0/bin/../libs/javax.activation-api-1.2.0.jar:/home/paulo/Documents/sword-health-ml/utils/kafka_2.13-3.5.0/bin/../libs/javax.annotation-api-1.3.2.jar:/home/paulo/Documents/sword-health-ml/utils/kafka_2.13-3.5.0/bin/../libs/javax.servlet-api-3.1.0.jar:/home/paulo/Documents/sword-health-ml/utils/kafka_2.13-3.5.0/bin/../libs/javax.ws.rs-api-2.1.1.jar:/home/paulo/Documents/sword-health-ml/utils/kafka_2.13-3.5.0/bin/../libs/jaxb-api-2.3.1.jar:/home/paulo/Documents/sword-health-ml/utils/kafka_2.13-3.5.0/bin/../libs/jersey-client-2.39.1.jar:/home/paulo/Documents/sword-health-ml/utils/kafka_2.13-3.5.0/bin/../libs/jersey-common-2.39.1.jar:/home/paulo/Documents/sword-health-ml/utils/kafka_2.13-3.5.0/bin/../libs/jersey-container-servlet-2.39.1.jar:/home/paulo/Documents/sword-health-ml/utils/kafka_2.13-3.5.0/bin/../libs/jersey-container-servlet-core-2.39.1.jar:/home/paulo/Documents/sword-health-ml/utils/kafka_2.13-3.5.0/bin/../libs/jersey-hk2-2.39.1.jar:/home/paulo/Documents/sword-health-ml/utils/kafka_2.13-3.5.0/bin/../libs/jersey-server-2.39.1.jar:/home/paulo/Documents/sword-health-ml/utils/kafka_2.13-3.5.0/bin/../libs/jetty-client-9.4.51.v20230217.jar:/home/paulo/Documents/sword-health-ml/utils/kafka_2.13-3.5.0/bin/../libs/jetty-continuation-9.4.51.v20230217.jar:/home/paulo/Documents/sword-health-ml/utils/kafka_2.13-3.5.0/bin/../libs/jetty-http-9.4.51.v20230217.jar:/home/paulo/Documents/sword-health-ml/utils/kafka_2.13-3.5.0/bin/../libs/jetty-io-9.4.51.v20230217.jar:/home/paulo/Documents/sword-health-ml/utils/kafka_2.13-3.5.0/bin/../libs/jetty-security-9.4.51.v20230217.jar:/home/paulo/Documents/sword-health-ml/utils/kafka_2.13-3.5.0/bin/../libs/jetty-server-9.4.51.v20230217.jar:/home/paulo/Documents/sword-health-ml/utils/kafka_2.13-3.5.0/bin/../libs/jetty-servlet-9.4.51.v20230217.jar:/home/paulo/Documents/sword-health-ml/utils/kafka_2.13-3.5.0/bin/../libs/jetty-servlets-9.4.51.v20230217.jar:/home/paulo/Documents/sword-health-ml/utils/kafka_2.13-3.5.0/bin/../libs/jetty-util-9.4.51.v20230217.jar:/home/paulo/Documents/sword-health-ml/utils/kafka_2.13-3.5.0/bin/../libs/jetty-util-ajax-9.4.51.v20230217.jar:/home/paulo/Documents/sword-health-ml/utils/kafka_2.13-3.5.0/bin/../libs/jline-3.22.0.jar:/home/paulo/Documents/sword-health-ml/utils/kafka_2.13-3.5.0/bin/../libs/jopt-simple-5.0.4.jar:/home/paulo/Documents/sword-health-ml/utils/kafka_2.13-3.5.0/bin/../libs/jose4j-0.9.3.jar:/home/paulo/Documents/sword-health-ml/utils/kafka_2.13-3.5.0/bin/../libs/kafka_2.13-3.5.0.jar:/home/paulo/Documents/sword-health-ml/utils/kafka_2.13-3.5.0/bin/../libs/kafka-clients-3.5.0.jar:/home/paulo/Documents/sword-health-ml/utils/kafka_2.13-3.5.0/bin/../libs/kafka-group-coordinator-3.5.0.jar:/home/paulo/Documents/sword-health-ml/utils/kafka_2.13-3.5.0/bin/../libs/kafka-log4j-appender-3.5.0.jar:/home/paulo/Documents/sword-health-ml/utils/kafka_2.13-3.5.0/bin/../libs/kafka-metadata-3.5.0.jar:/home/paulo/Documents/sword-health-ml/utils/kafka_2.13-3.5.0/bin/../libs/kafka-raft-3.5.0.jar:/home/paulo/Documents/sword-health-ml/utils/kafka_2.13-3.5.0/bin/../libs/kafka-server-common-3.5.0.jar:/home/paulo/Documents/sword-health-ml/utils/kafka_2.13-3.5.0/bin/../libs/kafka-shell-3.5.0.jar:/home/paulo/Documents/sword-health-ml/utils/kafka_2.13-3.5.0/bin/../libs/kafka-storage-3.5.0.jar:/home/paulo/Documents/sword-health-ml/utils/kafka_2.13-3.5.0/bin/../libs/kafka-storage-api-3.5.0.jar:/home/paulo/Documents/sword-health-ml/utils/kafka_2.13-3.5.0/bin/../libs/kafka-streams-3.5.0.jar:/home/paulo/Documents/sword-health-ml/utils/kafka_2.13-3.5.0/bin/../libs/kafka-streams-examples-3.5.0.jar:/home/paulo/Documents/sword-health-ml/utils/kafka_2.13-3.5.0/bin/../libs/kafka-streams-scala_2.13-3.5.0.jar:/home/paulo/Documents/sword-health-ml/utils/kafka_2.13-3.5.0/bin/../libs/kafka-streams-test-utils-3.5.0.jar:/home/paulo/Documents/sword-health-ml/utils/kafka_2.13-3.5.0/bin/../libs/kafka-tools-3.5.0.jar:/home/paulo/Documents/sword-health-ml/utils/kafka_2.13-3.5.0/bin/../libs/kafka-tools-api-3.5.0.jar:/home/paulo/Documents/sword-health-ml/utils/kafka_2.13-3.5.0/bin/../libs/lz4-java-1.8.0.jar:/home/paulo/Documents/sword-health-ml/utils/kafka_2.13-3.5.0/bin/../libs/maven-artifact-3.8.4.jar:/home/paulo/Documents/sword-health-ml/utils/kafka_2.13-3.5.0/bin/../libs/metrics-core-2.2.0.jar:/home/paulo/Documents/sword-health-ml/utils/kafka_2.13-3.5.0/bin/../libs/metrics-core-4.1.12.1.jar:/home/paulo/Documents/sword-health-ml/utils/kafka_2.13-3.5.0/bin/../libs/netty-buffer-4.1.92.Final.jar:/home/paulo/Documents/sword-health-ml/utils/kafka_2.13-3.5.0/bin/../libs/netty-codec-4.1.92.Final.jar:/home/paulo/Documents/sword-health-ml/utils/kafka_2.13-3.5.0/bin/../libs/netty-common-4.1.92.Final.jar:/home/paulo/Documents/sword-health-ml/utils/kafka_2.13-3.5.0/bin/../libs/netty-handler-4.1.92.Final.jar:/home/paulo/Documents/sword-health-ml/utils/kafka_2.13-3.5.0/bin/../libs/netty-resolver-4.1.92.Final.jar:/home/paulo/Documents/sword-health-ml/utils/kafka_2.13-3.5.0/bin/../libs/netty-transport-4.1.92.Final.jar:/home/paulo/Documents/sword-health-ml/utils/kafka_2.13-3.5.0/bin/../libs/netty-transport-classes-epoll-4.1.92.Final.jar:/home/paulo/Documents/sword-health-ml/utils/kafka_2.13-3.5.0/bin/../libs/netty-transport-native-epoll-4.1.92.Final.jar:/home/paulo/Documents/sword-health-ml/utils/kafka_2.13-3.5.0/bin/../libs/netty-transport-native-unix-common-4.1.92.Final.jar:/home/paulo/Documents/sword-health-ml/utils/kafka_2.13-3.5.0/bin/../libs/osgi-resource-locator-1.0.3.jar:/home/paulo/Documents/sword-health-ml/utils/kafka_2.13-3.5.0/bin/../libs/paranamer-2.8.jar:/home/paulo/Documents/sword-health-ml/utils/kafka_2.13-3.5.0/bin/../libs/plexus-utils-3.3.0.jar:/home/paulo/Documents/sword-health-ml/utils/kafka_2.13-3.5.0/bin/../libs/reflections-0.9.12.jar:/home/paulo/Documents/sword-health-ml/utils/kafka_2.13-3.5.0/bin/../libs/reload4j-1.2.25.jar:/home/paulo/Documents/sword-health-ml/utils/kafka_2.13-3.5.0/bin/../libs/rocksdbjni-7.1.2.jar:/home/paulo/Documents/sword-health-ml/utils/kafka_2.13-3.5.0/bin/../libs/scala-collection-compat_2.13-2.10.0.jar:/home/paulo/Documents/sword-health-ml/utils/kafka_2.13-3.5.0/bin/../libs/scala-java8-compat_2.13-1.0.2.jar:/home/paulo/Documents/sword-health-ml/utils/kafka_2.13-3.5.0/bin/../libs/scala-library-2.13.10.jar:/home/paulo/Documents/sword-health-ml/utils/kafka_2.13-3.5.0/bin/../libs/scala-logging_2.13-3.9.4.jar:/home/paulo/Documents/sword-health-ml/utils/kafka_2.13-3.5.0/bin/../libs/scala-reflect-2.13.10.jar:/home/paulo/Documents/sword-health-ml/utils/kafka_2.13-3.5.0/bin/../libs/slf4j-api-1.7.36.jar:/home/paulo/Documents/sword-health-ml/utils/kafka_2.13-3.5.0/bin/../libs/slf4j-reload4j-1.7.36.jar:/home/paulo/Documents/sword-health-ml/utils/kafka_2.13-3.5.0/bin/../libs/snappy-java-1.1.10.0.jar:/home/paulo/Documents/sword-health-ml/utils/kafka_2.13-3.5.0/bin/../libs/swagger-annotations-2.2.8.jar:/home/paulo/Documents/sword-health-ml/utils/kafka_2.13-3.5.0/bin/../libs/trogdor-3.5.0.jar:/home/paulo/Documents/sword-health-ml/utils/kafka_2.13-3.5.0/bin/../libs/zookeeper-3.6.4.jar:/home/paulo/Documents/sword-health-ml/utils/kafka_2.13-3.5.0/bin/../libs/zookeeper-jute-3.6.4.jar:/home/paulo/Documents/sword-health-ml/utils/kafka_2.13-3.5.0/bin/../libs/zstd-jni-1.5.5-1.jar org.apache.zookeeper.server.quorum.QuorumPeerMain ./kafka_2.13-3.5.0/config/zookeeper.properties\n",
            "paulo       9917    2590  0 13:15 ?        00:02:46 java -Xmx1G -Xms1G -server -XX:+UseG1GC -XX:MaxGCPauseMillis=20 -XX:InitiatingHeapOccupancyPercent=35 -XX:+ExplicitGCInvokesConcurrent -XX:MaxInlineLevel=15 -Djava.awt.headless=true -Xlog:gc*:file=/home/paulo/Documents/sword-health-ml/utils/kafka_2.13-3.5.0/bin/../logs/kafkaServer-gc.log:time,tags:filecount=10,filesize=100M -Dcom.sun.management.jmxremote -Dcom.sun.management.jmxremote.authenticate=false -Dcom.sun.management.jmxremote.ssl=false -Dkafka.logs.dir=/home/paulo/Documents/sword-health-ml/utils/kafka_2.13-3.5.0/bin/../logs -Dlog4j.configuration=file:./kafka_2.13-3.5.0/bin/../config/log4j.properties -cp /home/paulo/Documents/sword-health-ml/utils/kafka_2.13-3.5.0/bin/../libs/activation-1.1.1.jar:/home/paulo/Documents/sword-health-ml/utils/kafka_2.13-3.5.0/bin/../libs/aopalliance-repackaged-2.6.1.jar:/home/paulo/Documents/sword-health-ml/utils/kafka_2.13-3.5.0/bin/../libs/argparse4j-0.7.0.jar:/home/paulo/Documents/sword-health-ml/utils/kafka_2.13-3.5.0/bin/../libs/audience-annotations-0.13.0.jar:/home/paulo/Documents/sword-health-ml/utils/kafka_2.13-3.5.0/bin/../libs/commons-cli-1.4.jar:/home/paulo/Documents/sword-health-ml/utils/kafka_2.13-3.5.0/bin/../libs/commons-lang3-3.8.1.jar:/home/paulo/Documents/sword-health-ml/utils/kafka_2.13-3.5.0/bin/../libs/connect-api-3.5.0.jar:/home/paulo/Documents/sword-health-ml/utils/kafka_2.13-3.5.0/bin/../libs/connect-basic-auth-extension-3.5.0.jar:/home/paulo/Documents/sword-health-ml/utils/kafka_2.13-3.5.0/bin/../libs/connect-json-3.5.0.jar:/home/paulo/Documents/sword-health-ml/utils/kafka_2.13-3.5.0/bin/../libs/connect-mirror-3.5.0.jar:/home/paulo/Documents/sword-health-ml/utils/kafka_2.13-3.5.0/bin/../libs/connect-mirror-client-3.5.0.jar:/home/paulo/Documents/sword-health-ml/utils/kafka_2.13-3.5.0/bin/../libs/connect-runtime-3.5.0.jar:/home/paulo/Documents/sword-health-ml/utils/kafka_2.13-3.5.0/bin/../libs/connect-transforms-3.5.0.jar:/home/paulo/Documents/sword-health-ml/utils/kafka_2.13-3.5.0/bin/../libs/hk2-api-2.6.1.jar:/home/paulo/Documents/sword-health-ml/utils/kafka_2.13-3.5.0/bin/../libs/hk2-locator-2.6.1.jar:/home/paulo/Documents/sword-health-ml/utils/kafka_2.13-3.5.0/bin/../libs/hk2-utils-2.6.1.jar:/home/paulo/Documents/sword-health-ml/utils/kafka_2.13-3.5.0/bin/../libs/jackson-annotations-2.13.5.jar:/home/paulo/Documents/sword-health-ml/utils/kafka_2.13-3.5.0/bin/../libs/jackson-core-2.13.5.jar:/home/paulo/Documents/sword-health-ml/utils/kafka_2.13-3.5.0/bin/../libs/jackson-databind-2.13.5.jar:/home/paulo/Documents/sword-health-ml/utils/kafka_2.13-3.5.0/bin/../libs/jackson-dataformat-csv-2.13.5.jar:/home/paulo/Documents/sword-health-ml/utils/kafka_2.13-3.5.0/bin/../libs/jackson-datatype-jdk8-2.13.5.jar:/home/paulo/Documents/sword-health-ml/utils/kafka_2.13-3.5.0/bin/../libs/jackson-jaxrs-base-2.13.5.jar:/home/paulo/Documents/sword-health-ml/utils/kafka_2.13-3.5.0/bin/../libs/jackson-jaxrs-json-provider-2.13.5.jar:/home/paulo/Documents/sword-health-ml/utils/kafka_2.13-3.5.0/bin/../libs/jackson-module-jaxb-annotations-2.13.5.jar:/home/paulo/Documents/sword-health-ml/utils/kafka_2.13-3.5.0/bin/../libs/jackson-module-scala_2.13-2.13.5.jar:/home/paulo/Documents/sword-health-ml/utils/kafka_2.13-3.5.0/bin/../libs/jakarta.activation-api-1.2.2.jar:/home/paulo/Documents/sword-health-ml/utils/kafka_2.13-3.5.0/bin/../libs/jakarta.annotation-api-1.3.5.jar:/home/paulo/Documents/sword-health-ml/utils/kafka_2.13-3.5.0/bin/../libs/jakarta.inject-2.6.1.jar:/home/paulo/Documents/sword-health-ml/utils/kafka_2.13-3.5.0/bin/../libs/jakarta.validation-api-2.0.2.jar:/home/paulo/Documents/sword-health-ml/utils/kafka_2.13-3.5.0/bin/../libs/jakarta.ws.rs-api-2.1.6.jar:/home/paulo/Documents/sword-health-ml/utils/kafka_2.13-3.5.0/bin/../libs/jakarta.xml.bind-api-2.3.3.jar:/home/paulo/Documents/sword-health-ml/utils/kafka_2.13-3.5.0/bin/../libs/javassist-3.29.2-GA.jar:/home/paulo/Documents/sword-health-ml/utils/kafka_2.13-3.5.0/bin/../libs/javax.activation-api-1.2.0.jar:/home/paulo/Documents/sword-health-ml/utils/kafka_2.13-3.5.0/bin/../libs/javax.annotation-api-1.3.2.jar:/home/paulo/Documents/sword-health-ml/utils/kafka_2.13-3.5.0/bin/../libs/javax.servlet-api-3.1.0.jar:/home/paulo/Documents/sword-health-ml/utils/kafka_2.13-3.5.0/bin/../libs/javax.ws.rs-api-2.1.1.jar:/home/paulo/Documents/sword-health-ml/utils/kafka_2.13-3.5.0/bin/../libs/jaxb-api-2.3.1.jar:/home/paulo/Documents/sword-health-ml/utils/kafka_2.13-3.5.0/bin/../libs/jersey-client-2.39.1.jar:/home/paulo/Documents/sword-health-ml/utils/kafka_2.13-3.5.0/bin/../libs/jersey-common-2.39.1.jar:/home/paulo/Documents/sword-health-ml/utils/kafka_2.13-3.5.0/bin/../libs/jersey-container-servlet-2.39.1.jar:/home/paulo/Documents/sword-health-ml/utils/kafka_2.13-3.5.0/bin/../libs/jersey-container-servlet-core-2.39.1.jar:/home/paulo/Documents/sword-health-ml/utils/kafka_2.13-3.5.0/bin/../libs/jersey-hk2-2.39.1.jar:/home/paulo/Documents/sword-health-ml/utils/kafka_2.13-3.5.0/bin/../libs/jersey-server-2.39.1.jar:/home/paulo/Documents/sword-health-ml/utils/kafka_2.13-3.5.0/bin/../libs/jetty-client-9.4.51.v20230217.jar:/home/paulo/Documents/sword-health-ml/utils/kafka_2.13-3.5.0/bin/../libs/jetty-continuation-9.4.51.v20230217.jar:/home/paulo/Documents/sword-health-ml/utils/kafka_2.13-3.5.0/bin/../libs/jetty-http-9.4.51.v20230217.jar:/home/paulo/Documents/sword-health-ml/utils/kafka_2.13-3.5.0/bin/../libs/jetty-io-9.4.51.v20230217.jar:/home/paulo/Documents/sword-health-ml/utils/kafka_2.13-3.5.0/bin/../libs/jetty-security-9.4.51.v20230217.jar:/home/paulo/Documents/sword-health-ml/utils/kafka_2.13-3.5.0/bin/../libs/jetty-server-9.4.51.v20230217.jar:/home/paulo/Documents/sword-health-ml/utils/kafka_2.13-3.5.0/bin/../libs/jetty-servlet-9.4.51.v20230217.jar:/home/paulo/Documents/sword-health-ml/utils/kafka_2.13-3.5.0/bin/../libs/jetty-servlets-9.4.51.v20230217.jar:/home/paulo/Documents/sword-health-ml/utils/kafka_2.13-3.5.0/bin/../libs/jetty-util-9.4.51.v20230217.jar:/home/paulo/Documents/sword-health-ml/utils/kafka_2.13-3.5.0/bin/../libs/jetty-util-ajax-9.4.51.v20230217.jar:/home/paulo/Documents/sword-health-ml/utils/kafka_2.13-3.5.0/bin/../libs/jline-3.22.0.jar:/home/paulo/Documents/sword-health-ml/utils/kafka_2.13-3.5.0/bin/../libs/jopt-simple-5.0.4.jar:/home/paulo/Documents/sword-health-ml/utils/kafka_2.13-3.5.0/bin/../libs/jose4j-0.9.3.jar:/home/paulo/Documents/sword-health-ml/utils/kafka_2.13-3.5.0/bin/../libs/kafka_2.13-3.5.0.jar:/home/paulo/Documents/sword-health-ml/utils/kafka_2.13-3.5.0/bin/../libs/kafka-clients-3.5.0.jar:/home/paulo/Documents/sword-health-ml/utils/kafka_2.13-3.5.0/bin/../libs/kafka-group-coordinator-3.5.0.jar:/home/paulo/Documents/sword-health-ml/utils/kafka_2.13-3.5.0/bin/../libs/kafka-log4j-appender-3.5.0.jar:/home/paulo/Documents/sword-health-ml/utils/kafka_2.13-3.5.0/bin/../libs/kafka-metadata-3.5.0.jar:/home/paulo/Documents/sword-health-ml/utils/kafka_2.13-3.5.0/bin/../libs/kafka-raft-3.5.0.jar:/home/paulo/Documents/sword-health-ml/utils/kafka_2.13-3.5.0/bin/../libs/kafka-server-common-3.5.0.jar:/home/paulo/Documents/sword-health-ml/utils/kafka_2.13-3.5.0/bin/../libs/kafka-shell-3.5.0.jar:/home/paulo/Documents/sword-health-ml/utils/kafka_2.13-3.5.0/bin/../libs/kafka-storage-3.5.0.jar:/home/paulo/Documents/sword-health-ml/utils/kafka_2.13-3.5.0/bin/../libs/kafka-storage-api-3.5.0.jar:/home/paulo/Documents/sword-health-ml/utils/kafka_2.13-3.5.0/bin/../libs/kafka-streams-3.5.0.jar:/home/paulo/Documents/sword-health-ml/utils/kafka_2.13-3.5.0/bin/../libs/kafka-streams-examples-3.5.0.jar:/home/paulo/Documents/sword-health-ml/utils/kafka_2.13-3.5.0/bin/../libs/kafka-streams-scala_2.13-3.5.0.jar:/home/paulo/Documents/sword-health-ml/utils/kafka_2.13-3.5.0/bin/../libs/kafka-streams-test-utils-3.5.0.jar:/home/paulo/Documents/sword-health-ml/utils/kafka_2.13-3.5.0/bin/../libs/kafka-tools-3.5.0.jar:/home/paulo/Documents/sword-health-ml/utils/kafka_2.13-3.5.0/bin/../libs/kafka-tools-api-3.5.0.jar:/home/paulo/Documents/sword-health-ml/utils/kafka_2.13-3.5.0/bin/../libs/lz4-java-1.8.0.jar:/home/paulo/Documents/sword-health-ml/utils/kafka_2.13-3.5.0/bin/../libs/maven-artifact-3.8.4.jar:/home/paulo/Documents/sword-health-ml/utils/kafka_2.13-3.5.0/bin/../libs/metrics-core-2.2.0.jar:/home/paulo/Documents/sword-health-ml/utils/kafka_2.13-3.5.0/bin/../libs/metrics-core-4.1.12.1.jar:/home/paulo/Documents/sword-health-ml/utils/kafka_2.13-3.5.0/bin/../libs/netty-buffer-4.1.92.Final.jar:/home/paulo/Documents/sword-health-ml/utils/kafka_2.13-3.5.0/bin/../libs/netty-codec-4.1.92.Final.jar:/home/paulo/Documents/sword-health-ml/utils/kafka_2.13-3.5.0/bin/../libs/netty-common-4.1.92.Final.jar:/home/paulo/Documents/sword-health-ml/utils/kafka_2.13-3.5.0/bin/../libs/netty-handler-4.1.92.Final.jar:/home/paulo/Documents/sword-health-ml/utils/kafka_2.13-3.5.0/bin/../libs/netty-resolver-4.1.92.Final.jar:/home/paulo/Documents/sword-health-ml/utils/kafka_2.13-3.5.0/bin/../libs/netty-transport-4.1.92.Final.jar:/home/paulo/Documents/sword-health-ml/utils/kafka_2.13-3.5.0/bin/../libs/netty-transport-classes-epoll-4.1.92.Final.jar:/home/paulo/Documents/sword-health-ml/utils/kafka_2.13-3.5.0/bin/../libs/netty-transport-native-epoll-4.1.92.Final.jar:/home/paulo/Documents/sword-health-ml/utils/kafka_2.13-3.5.0/bin/../libs/netty-transport-native-unix-common-4.1.92.Final.jar:/home/paulo/Documents/sword-health-ml/utils/kafka_2.13-3.5.0/bin/../libs/osgi-resource-locator-1.0.3.jar:/home/paulo/Documents/sword-health-ml/utils/kafka_2.13-3.5.0/bin/../libs/paranamer-2.8.jar:/home/paulo/Documents/sword-health-ml/utils/kafka_2.13-3.5.0/bin/../libs/plexus-utils-3.3.0.jar:/home/paulo/Documents/sword-health-ml/utils/kafka_2.13-3.5.0/bin/../libs/reflections-0.9.12.jar:/home/paulo/Documents/sword-health-ml/utils/kafka_2.13-3.5.0/bin/../libs/reload4j-1.2.25.jar:/home/paulo/Documents/sword-health-ml/utils/kafka_2.13-3.5.0/bin/../libs/rocksdbjni-7.1.2.jar:/home/paulo/Documents/sword-health-ml/utils/kafka_2.13-3.5.0/bin/../libs/scala-collection-compat_2.13-2.10.0.jar:/home/paulo/Documents/sword-health-ml/utils/kafka_2.13-3.5.0/bin/../libs/scala-java8-compat_2.13-1.0.2.jar:/home/paulo/Documents/sword-health-ml/utils/kafka_2.13-3.5.0/bin/../libs/scala-library-2.13.10.jar:/home/paulo/Documents/sword-health-ml/utils/kafka_2.13-3.5.0/bin/../libs/scala-logging_2.13-3.9.4.jar:/home/paulo/Documents/sword-health-ml/utils/kafka_2.13-3.5.0/bin/../libs/scala-reflect-2.13.10.jar:/home/paulo/Documents/sword-health-ml/utils/kafka_2.13-3.5.0/bin/../libs/slf4j-api-1.7.36.jar:/home/paulo/Documents/sword-health-ml/utils/kafka_2.13-3.5.0/bin/../libs/slf4j-reload4j-1.7.36.jar:/home/paulo/Documents/sword-health-ml/utils/kafka_2.13-3.5.0/bin/../libs/snappy-java-1.1.10.0.jar:/home/paulo/Documents/sword-health-ml/utils/kafka_2.13-3.5.0/bin/../libs/swagger-annotations-2.2.8.jar:/home/paulo/Documents/sword-health-ml/utils/kafka_2.13-3.5.0/bin/../libs/trogdor-3.5.0.jar:/home/paulo/Documents/sword-health-ml/utils/kafka_2.13-3.5.0/bin/../libs/zookeeper-3.6.4.jar:/home/paulo/Documents/sword-health-ml/utils/kafka_2.13-3.5.0/bin/../libs/zookeeper-jute-3.6.4.jar:/home/paulo/Documents/sword-health-ml/utils/kafka_2.13-3.5.0/bin/../libs/zstd-jni-1.5.5-1.jar kafka.Kafka ./kafka_2.13-3.5.0/config/server.properties\n",
            "paulo      38737   37997 68 19:03 pts/0    00:00:00 /bin/bash -c ps -ef | grep kafka\n",
            "paulo      38739   38737  0 19:03 pts/0    00:00:00 grep kafka\n"
          ]
        }
      ],
      "source": [
        "!ps -ef | grep kafka"
      ]
    },
    {
      "attachments": {},
      "cell_type": "markdown",
      "metadata": {
        "id": "Z3TntBqanQnh"
      },
      "source": [
        "Create the kafka topics with the following specs:\n",
        "\n",
        "- susy-train: partitions=1, replication-factor=1\n",
        "- susy-test: partitions=2, replication-factor=1"
      ]
    },
    {
      "cell_type": "code",
      "execution_count": 10,
      "metadata": {
        "colab": {
          "base_uri": "https://localhost:8080/"
        },
        "id": "lXJWqMmWnPyP",
        "outputId": "64bb5bf5-20cc-4964-d9f7-38eff6d8031b"
      },
      "outputs": [
        {
          "name": "stdout",
          "output_type": "stream",
          "text": [
            "Created topic susy-train.\n",
            "Created topic susy-test.\n"
          ]
        }
      ],
      "source": [
        "# !./kafka_2.13-3.5.0/bin/kafka-topics.sh --create --bootstrap-server 127.0.0.1:9092 --replication-factor 1 --partitions 1 --topic susy-train\n",
        "# !./kafka_2.13-3.5.0/bin/kafka-topics.sh --create --bootstrap-server 127.0.0.1:9092 --replication-factor 1 --partitions 2 --topic susy-test"
      ]
    },
    {
      "attachments": {},
      "cell_type": "markdown",
      "metadata": {
        "id": "kNxf_NqjnycC"
      },
      "source": [
        "Describe the topic for details on the configuration"
      ]
    },
    {
      "cell_type": "code",
      "execution_count": 11,
      "metadata": {
        "colab": {
          "base_uri": "https://localhost:8080/"
        },
        "id": "apCf9pfVnwn7",
        "outputId": "90b5845b-534c-4e8a-ff1f-84ce37441dc7"
      },
      "outputs": [
        {
          "name": "stdout",
          "output_type": "stream",
          "text": [
            "Topic: susy-train\tTopicId: WCDiyj7ERLy2mnnJ-hyNYw\tPartitionCount: 1\tReplicationFactor: 1\tConfigs: \n",
            "\tTopic: susy-train\tPartition: 0\tLeader: 0\tReplicas: 0\tIsr: 0\n",
            "Topic: susy-test\tTopicId: ovVn-87-SUa1fe4Z44xwjA\tPartitionCount: 2\tReplicationFactor: 1\tConfigs: \n",
            "\tTopic: susy-test\tPartition: 0\tLeader: 0\tReplicas: 0\tIsr: 0\n",
            "\tTopic: susy-test\tPartition: 1\tLeader: 0\tReplicas: 0\tIsr: 0\n"
          ]
        }
      ],
      "source": [
        "# !./kafka_2.13-3.5.0/bin/kafka-topics.sh --describe --bootstrap-server 127.0.0.1:9092 --topic susy-train\n",
        "# !./kafka_2.13-3.5.0/bin/kafka-topics.sh --describe --bootstrap-server 127.0.0.1:9092 --topic susy-test\n"
      ]
    },
    {
      "attachments": {},
      "cell_type": "markdown",
      "metadata": {
        "id": "jKVnz3Pjot9t"
      },
      "source": [
        "The replication factor 1 indicates that the data is not being replicated. This is due to the presence of a single broker in our kafka setup.\n",
        "In production systems, the number of bootstrap servers can be in the range of 100's of nodes. That is where the fault-tolerance using replication comes into picture.\n",
        "\n",
        "Please refer to the [docs](https://kafka.apache.org/documentation/#replication) for more details.\n"
      ]
    },
    {
      "attachments": {},
      "cell_type": "markdown",
      "metadata": {
        "id": "bjCy3zaCQJ7-"
      },
      "source": [
        "## SUSY Dataset\n",
        "\n",
        "Kafka being an event streaming platform, enables  data from various sources to be written into it. For instance:\n",
        "\n",
        "- Web traffic logs\n",
        "- Astronomical measurements\n",
        "- IoT sensor data\n",
        "- Product reviews and many more.\n",
        "\n",
        "For the purpose of this tutorial, lets download the [SUSY](https://archive.ics.uci.edu/ml/datasets/SUSY#) dataset and feed the data into kafka manually. The goal of this classification problem is to distinguish between a signal process which produces supersymmetric particles and a background process which does not.\n"
      ]
    },
    {
      "cell_type": "code",
      "execution_count": 15,
      "metadata": {
        "id": "emslB2EGQMCR"
      },
      "outputs": [],
      "source": [
        "# !curl -sSOL https://archive.ics.uci.edu/ml/machine-learning-databases/00279/SUSY.csv.gz"
      ]
    },
    {
      "attachments": {},
      "cell_type": "markdown",
      "metadata": {
        "id": "4CfKVmCvwcL7"
      },
      "source": [
        "### Explore the dataset"
      ]
    },
    {
      "attachments": {},
      "cell_type": "markdown",
      "metadata": {
        "id": "18aR_MsOKToc"
      },
      "source": [
        "The first column is the class label (1 for signal, 0 for background), followed by the 18 features (8 low-level features then 10 high-level features).\n",
        "The first 8 features are kinematic properties measured by the particle detectors in the accelerator. The last 10 features are functions of the first 8 features. These are high-level features derived by physicists to help discriminate between the two classes."
      ]
    },
    {
      "cell_type": "code",
      "execution_count": 16,
      "metadata": {
        "id": "XkXyocIdKRSB"
      },
      "outputs": [],
      "source": [
        "COLUMNS = [\n",
        "          #  labels\n",
        "           'class',\n",
        "          #  low-level features\n",
        "           'lepton_1_pT',\n",
        "           'lepton_1_eta',\n",
        "           'lepton_1_phi',\n",
        "           'lepton_2_pT',\n",
        "           'lepton_2_eta',\n",
        "           'lepton_2_phi',\n",
        "           'missing_energy_magnitude',\n",
        "           'missing_energy_phi',\n",
        "          #  high-level derived features\n",
        "           'MET_rel',\n",
        "           'axial_MET',\n",
        "           'M_R',\n",
        "           'M_TR_2',\n",
        "           'R',\n",
        "           'MT2',\n",
        "           'S_R',\n",
        "           'M_Delta_R',\n",
        "           'dPhi_r_b',\n",
        "           'cos(theta_r1)'\n",
        "           ]"
      ]
    },
    {
      "attachments": {},
      "cell_type": "markdown",
      "metadata": {
        "id": "q0NBA51_1Ie2"
      },
      "source": [
        "The entire dataset consists of 5 million rows. However, for the purpose of this tutorial, let's consider only a fraction of the dataset (100,000 rows) so that less time is spent on the moving the data and more time on understanding the functionality of the api."
      ]
    },
    {
      "cell_type": "code",
      "execution_count": 17,
      "metadata": {
        "colab": {
          "base_uri": "https://localhost:8080/",
          "height": 270
        },
        "id": "nC-yt_c9u0sH",
        "outputId": "aff6e4af-f240-40f4-e390-42f233ae5aa0"
      },
      "outputs": [
        {
          "data": {
            "text/html": [
              "<div>\n",
              "<style scoped>\n",
              "    .dataframe tbody tr th:only-of-type {\n",
              "        vertical-align: middle;\n",
              "    }\n",
              "\n",
              "    .dataframe tbody tr th {\n",
              "        vertical-align: top;\n",
              "    }\n",
              "\n",
              "    .dataframe thead th {\n",
              "        text-align: right;\n",
              "    }\n",
              "</style>\n",
              "<table border=\"1\" class=\"dataframe\">\n",
              "  <thead>\n",
              "    <tr style=\"text-align: right;\">\n",
              "      <th></th>\n",
              "      <th>class</th>\n",
              "      <th>lepton_1_pT</th>\n",
              "      <th>lepton_1_eta</th>\n",
              "      <th>lepton_1_phi</th>\n",
              "      <th>lepton_2_pT</th>\n",
              "      <th>lepton_2_eta</th>\n",
              "      <th>lepton_2_phi</th>\n",
              "      <th>missing_energy_magnitude</th>\n",
              "      <th>missing_energy_phi</th>\n",
              "      <th>MET_rel</th>\n",
              "      <th>axial_MET</th>\n",
              "      <th>M_R</th>\n",
              "      <th>M_TR_2</th>\n",
              "      <th>R</th>\n",
              "      <th>MT2</th>\n",
              "      <th>S_R</th>\n",
              "      <th>M_Delta_R</th>\n",
              "      <th>dPhi_r_b</th>\n",
              "      <th>cos(theta_r1)</th>\n",
              "    </tr>\n",
              "  </thead>\n",
              "  <tbody>\n",
              "    <tr>\n",
              "      <th>0</th>\n",
              "      <td>0.0</td>\n",
              "      <td>0.972861</td>\n",
              "      <td>0.653855</td>\n",
              "      <td>1.176225</td>\n",
              "      <td>1.157156</td>\n",
              "      <td>-1.739873</td>\n",
              "      <td>-0.874309</td>\n",
              "      <td>0.567765</td>\n",
              "      <td>-0.175000</td>\n",
              "      <td>0.810061</td>\n",
              "      <td>-0.252552</td>\n",
              "      <td>1.921887</td>\n",
              "      <td>0.889637</td>\n",
              "      <td>0.410772</td>\n",
              "      <td>1.145621</td>\n",
              "      <td>1.932632</td>\n",
              "      <td>0.994464</td>\n",
              "      <td>1.367815</td>\n",
              "      <td>0.040714</td>\n",
              "    </tr>\n",
              "    <tr>\n",
              "      <th>1</th>\n",
              "      <td>1.0</td>\n",
              "      <td>1.667973</td>\n",
              "      <td>0.064191</td>\n",
              "      <td>-1.225171</td>\n",
              "      <td>0.506102</td>\n",
              "      <td>-0.338939</td>\n",
              "      <td>1.672543</td>\n",
              "      <td>3.475464</td>\n",
              "      <td>-1.219136</td>\n",
              "      <td>0.012955</td>\n",
              "      <td>3.775174</td>\n",
              "      <td>1.045977</td>\n",
              "      <td>0.568051</td>\n",
              "      <td>0.481928</td>\n",
              "      <td>0.000000</td>\n",
              "      <td>0.448410</td>\n",
              "      <td>0.205356</td>\n",
              "      <td>1.321893</td>\n",
              "      <td>0.377584</td>\n",
              "    </tr>\n",
              "    <tr>\n",
              "      <th>2</th>\n",
              "      <td>1.0</td>\n",
              "      <td>0.444840</td>\n",
              "      <td>-0.134298</td>\n",
              "      <td>-0.709972</td>\n",
              "      <td>0.451719</td>\n",
              "      <td>-1.613871</td>\n",
              "      <td>-0.768661</td>\n",
              "      <td>1.219918</td>\n",
              "      <td>0.504026</td>\n",
              "      <td>1.831248</td>\n",
              "      <td>-0.431385</td>\n",
              "      <td>0.526283</td>\n",
              "      <td>0.941514</td>\n",
              "      <td>1.587535</td>\n",
              "      <td>2.024308</td>\n",
              "      <td>0.603498</td>\n",
              "      <td>1.562374</td>\n",
              "      <td>1.135454</td>\n",
              "      <td>0.180910</td>\n",
              "    </tr>\n",
              "    <tr>\n",
              "      <th>3</th>\n",
              "      <td>1.0</td>\n",
              "      <td>0.381256</td>\n",
              "      <td>-0.976145</td>\n",
              "      <td>0.693152</td>\n",
              "      <td>0.448959</td>\n",
              "      <td>0.891753</td>\n",
              "      <td>-0.677328</td>\n",
              "      <td>2.033060</td>\n",
              "      <td>1.533041</td>\n",
              "      <td>3.046260</td>\n",
              "      <td>-1.005285</td>\n",
              "      <td>0.569386</td>\n",
              "      <td>1.015211</td>\n",
              "      <td>1.582217</td>\n",
              "      <td>1.551914</td>\n",
              "      <td>0.761215</td>\n",
              "      <td>1.715464</td>\n",
              "      <td>1.492257</td>\n",
              "      <td>0.090719</td>\n",
              "    </tr>\n",
              "    <tr>\n",
              "      <th>4</th>\n",
              "      <td>1.0</td>\n",
              "      <td>1.309996</td>\n",
              "      <td>-0.690089</td>\n",
              "      <td>-0.676259</td>\n",
              "      <td>1.589283</td>\n",
              "      <td>-0.693326</td>\n",
              "      <td>0.622907</td>\n",
              "      <td>1.087562</td>\n",
              "      <td>-0.381742</td>\n",
              "      <td>0.589204</td>\n",
              "      <td>1.365479</td>\n",
              "      <td>1.179295</td>\n",
              "      <td>0.968218</td>\n",
              "      <td>0.728563</td>\n",
              "      <td>0.000000</td>\n",
              "      <td>1.083158</td>\n",
              "      <td>0.043429</td>\n",
              "      <td>1.154854</td>\n",
              "      <td>0.094859</td>\n",
              "    </tr>\n",
              "  </tbody>\n",
              "</table>\n",
              "</div>"
            ],
            "text/plain": [
              "   class  lepton_1_pT  lepton_1_eta  lepton_1_phi  lepton_2_pT  lepton_2_eta  \\\n",
              "0    0.0     0.972861      0.653855      1.176225     1.157156     -1.739873   \n",
              "1    1.0     1.667973      0.064191     -1.225171     0.506102     -0.338939   \n",
              "2    1.0     0.444840     -0.134298     -0.709972     0.451719     -1.613871   \n",
              "3    1.0     0.381256     -0.976145      0.693152     0.448959      0.891753   \n",
              "4    1.0     1.309996     -0.690089     -0.676259     1.589283     -0.693326   \n",
              "\n",
              "   lepton_2_phi  missing_energy_magnitude  missing_energy_phi   MET_rel  \\\n",
              "0     -0.874309                  0.567765           -0.175000  0.810061   \n",
              "1      1.672543                  3.475464           -1.219136  0.012955   \n",
              "2     -0.768661                  1.219918            0.504026  1.831248   \n",
              "3     -0.677328                  2.033060            1.533041  3.046260   \n",
              "4      0.622907                  1.087562           -0.381742  0.589204   \n",
              "\n",
              "   axial_MET       M_R    M_TR_2         R       MT2       S_R  M_Delta_R  \\\n",
              "0  -0.252552  1.921887  0.889637  0.410772  1.145621  1.932632   0.994464   \n",
              "1   3.775174  1.045977  0.568051  0.481928  0.000000  0.448410   0.205356   \n",
              "2  -0.431385  0.526283  0.941514  1.587535  2.024308  0.603498   1.562374   \n",
              "3  -1.005285  0.569386  1.015211  1.582217  1.551914  0.761215   1.715464   \n",
              "4   1.365479  1.179295  0.968218  0.728563  0.000000  1.083158   0.043429   \n",
              "\n",
              "   dPhi_r_b  cos(theta_r1)  \n",
              "0  1.367815       0.040714  \n",
              "1  1.321893       0.377584  \n",
              "2  1.135454       0.180910  \n",
              "3  1.492257       0.090719  \n",
              "4  1.154854       0.094859  "
            ]
          },
          "execution_count": 17,
          "metadata": {},
          "output_type": "execute_result"
        }
      ],
      "source": [
        "susy_iterator = pd.read_csv('SUSY.csv.gz', header=None, names=COLUMNS, chunksize=10000)\n",
        "susy_df = next(susy_iterator)\n",
        "susy_df.head()"
      ]
    },
    {
      "cell_type": "code",
      "execution_count": 18,
      "metadata": {
        "colab": {
          "base_uri": "https://localhost:8080/"
        },
        "id": "AlNuW7xbu6o8",
        "outputId": "e601a05c-bd3a-4819-f5aa-4bb93510b598"
      },
      "outputs": [
        {
          "data": {
            "text/plain": [
              "(10000, 19)"
            ]
          },
          "execution_count": 18,
          "metadata": {},
          "output_type": "execute_result"
        }
      ],
      "source": [
        "# Number of datapoints and columns\n",
        "len(susy_df), len(susy_df.columns)"
      ]
    },
    {
      "cell_type": "code",
      "execution_count": 19,
      "metadata": {
        "colab": {
          "base_uri": "https://localhost:8080/"
        },
        "id": "c6Cg22bU0-na",
        "outputId": "e5a07000-b706-4442-db66-6517166ed1e6"
      },
      "outputs": [
        {
          "data": {
            "text/plain": [
              "(5420, 4580)"
            ]
          },
          "execution_count": 19,
          "metadata": {},
          "output_type": "execute_result"
        }
      ],
      "source": [
        "# Number of datapoints belonging to each class (0: background noise, 1: signal)\n",
        "len(susy_df[susy_df[\"class\"]==0]), len(susy_df[susy_df[\"class\"]==1])"
      ]
    },
    {
      "attachments": {},
      "cell_type": "markdown",
      "metadata": {
        "id": "tF5K9xtmlT2P"
      },
      "source": [
        "### Split the dataset\n"
      ]
    },
    {
      "cell_type": "code",
      "execution_count": 20,
      "metadata": {
        "colab": {
          "base_uri": "https://localhost:8080/"
        },
        "id": "n-ku_X0Wld59",
        "outputId": "bbe20556-bec6-491c-8f97-19a3cf9303e8"
      },
      "outputs": [
        {
          "name": "stdout",
          "output_type": "stream",
          "text": [
            "Number of training samples:  4000\n",
            "Number of testing sample:  6000\n"
          ]
        }
      ],
      "source": [
        "train_df, test_df = train_test_split(susy_df, test_size=0.6, shuffle=True)\n",
        "print(\"Number of training samples: \",len(train_df))\n",
        "print(\"Number of testing sample: \",len(test_df))\n",
        "\n",
        "x_train_df = train_df.drop([\"class\"], axis=1)\n",
        "y_train_df = train_df[\"class\"]\n",
        "\n",
        "x_test_df = test_df.drop([\"class\"], axis=1)\n",
        "y_test_df = test_df[\"class\"]\n",
        "\n",
        "# The labels are set as the kafka message keys so as to store data\n",
        "# in multiple-partitions. Thus, enabling efficient data retrieval\n",
        "# using the consumer groups.\n",
        "x_train = list(filter(None, x_train_df.to_csv(index=False).split(\"\\n\")[1:]))\n",
        "y_train = list(filter(None, y_train_df.to_csv(index=False).split(\"\\n\")[1:]))\n",
        "\n",
        "x_test = list(filter(None, x_test_df.to_csv(index=False).split(\"\\n\")[1:]))\n",
        "y_test = list(filter(None, y_test_df.to_csv(index=False).split(\"\\n\")[1:]))\n"
      ]
    },
    {
      "cell_type": "code",
      "execution_count": 21,
      "metadata": {
        "colab": {
          "base_uri": "https://localhost:8080/"
        },
        "id": "YHXk0x2MXVgL",
        "outputId": "174f45b6-0d7c-4d23-e28e-1955fd1b4fd4"
      },
      "outputs": [
        {
          "data": {
            "text/plain": [
              "(4000, 4000, 6000, 6000)"
            ]
          },
          "execution_count": 21,
          "metadata": {},
          "output_type": "execute_result"
        }
      ],
      "source": [
        "NUM_COLUMNS = len(x_train_df.columns)\n",
        "len(x_train), len(y_train), len(x_test), len(y_test)"
      ]
    },
    {
      "attachments": {},
      "cell_type": "markdown",
      "metadata": {
        "id": "wwP5U4GqmhoL"
      },
      "source": [
        "### Store the train and test data in kafka\n",
        "\n",
        "Storing the data in kafka simulates an environment for continuous remote data retrieval for training and inference purposes."
      ]
    },
    {
      "cell_type": "code",
      "execution_count": 22,
      "metadata": {
        "colab": {
          "base_uri": "https://localhost:8080/",
          "height": 417
        },
        "id": "YhwFImSqncLE",
        "outputId": "68a1c74a-ae44-483a-85da-e0d282cb0ae4"
      },
      "outputs": [
        {
          "ename": "NameError",
          "evalue": "name 'KafkaProducer' is not defined",
          "output_type": "error",
          "traceback": [
            "\u001b[0;31m---------------------------------------------------------------------------\u001b[0m",
            "\u001b[0;31mNameError\u001b[0m                                 Traceback (most recent call last)",
            "Cell \u001b[0;32mIn[22], line 13\u001b[0m\n\u001b[1;32m     10\u001b[0m   producer\u001b[39m.\u001b[39mflush()\n\u001b[1;32m     11\u001b[0m   \u001b[39mprint\u001b[39m(\u001b[39m\"\u001b[39m\u001b[39mWrote \u001b[39m\u001b[39m{0}\u001b[39;00m\u001b[39m messages into topic: \u001b[39m\u001b[39m{1}\u001b[39;00m\u001b[39m\"\u001b[39m\u001b[39m.\u001b[39mformat(count, topic_name))\n\u001b[0;32m---> 13\u001b[0m write_to_kafka(\u001b[39m\"\u001b[39;49m\u001b[39msusy-train\u001b[39;49m\u001b[39m\"\u001b[39;49m, \u001b[39mzip\u001b[39;49m(x_train, y_train))\n\u001b[1;32m     14\u001b[0m write_to_kafka(\u001b[39m\"\u001b[39m\u001b[39msusy-test\u001b[39m\u001b[39m\"\u001b[39m, \u001b[39mzip\u001b[39m(x_test, y_test))\n",
            "Cell \u001b[0;32mIn[22], line 6\u001b[0m, in \u001b[0;36mwrite_to_kafka\u001b[0;34m(topic_name, items)\u001b[0m\n\u001b[1;32m      4\u001b[0m \u001b[39mdef\u001b[39;00m \u001b[39mwrite_to_kafka\u001b[39m(topic_name, items):\n\u001b[1;32m      5\u001b[0m   count\u001b[39m=\u001b[39m\u001b[39m0\u001b[39m\n\u001b[0;32m----> 6\u001b[0m   producer \u001b[39m=\u001b[39m KafkaProducer(bootstrap_servers\u001b[39m=\u001b[39m[\u001b[39m'\u001b[39m\u001b[39m127.0.0.1:9092\u001b[39m\u001b[39m'\u001b[39m])\n\u001b[1;32m      7\u001b[0m   \u001b[39mfor\u001b[39;00m message, key \u001b[39min\u001b[39;00m items:\n\u001b[1;32m      8\u001b[0m     producer\u001b[39m.\u001b[39msend(topic_name, key\u001b[39m=\u001b[39mkey\u001b[39m.\u001b[39mencode(\u001b[39m'\u001b[39m\u001b[39mutf-8\u001b[39m\u001b[39m'\u001b[39m), value\u001b[39m=\u001b[39mmessage\u001b[39m.\u001b[39mencode(\u001b[39m'\u001b[39m\u001b[39mutf-8\u001b[39m\u001b[39m'\u001b[39m))\u001b[39m.\u001b[39madd_errback(error_callback)\n",
            "\u001b[0;31mNameError\u001b[0m: name 'KafkaProducer' is not defined"
          ]
        }
      ],
      "source": [
        "def error_callback(exc):\n",
        "    raise Exception('Error while sendig data to kafka: {0}'.format(str(exc)))\n",
        "\n",
        "def write_to_kafka(topic_name, items):\n",
        "  count=0\n",
        "  producer = KafkaProducer(bootstrap_servers=['127.0.0.1:9092'])\n",
        "  for message, key in items:\n",
        "    producer.send(topic_name, key=key.encode('utf-8'), value=message.encode('utf-8')).add_errback(error_callback)\n",
        "    count+=1\n",
        "  producer.flush()\n",
        "  print(\"Wrote {0} messages into topic: {1}\".format(count, topic_name))\n",
        "\n",
        "write_to_kafka(\"susy-train\", zip(x_train, y_train))\n",
        "write_to_kafka(\"susy-test\", zip(x_test, y_test))"
      ]
    },
    {
      "attachments": {},
      "cell_type": "markdown",
      "metadata": {
        "id": "58q52py93jEf"
      },
      "source": [
        "### Define the tfio train dataset\n",
        "\n",
        "The `IODataset` class is utilized for streaming data from kafka into tensorflow. The class inherits from `tf.data.Dataset` and thus has all the useful functionalities of `tf.data.Dataset` out of the box.\n"
      ]
    },
    {
      "cell_type": "code",
      "execution_count": null,
      "metadata": {
        "id": "HHOcitbW2_d1"
      },
      "outputs": [
        {
          "name": "stderr",
          "output_type": "stream",
          "text": [
            "2023-06-28 01:55:21.112628: I tensorflow_io/core/kernels/kafka_kernels.cc:349] Kafka tail: 16000\n"
          ]
        }
      ],
      "source": [
        "def decode_kafka_item(item):\n",
        "  message = tf.io.decode_csv(item.message, [[0.0] for i in range(NUM_COLUMNS)])\n",
        "  key = tf.strings.to_number(item.key)\n",
        "  return (message, key)\n",
        "\n",
        "BATCH_SIZE=64\n",
        "SHUFFLE_BUFFER_SIZE=64\n",
        "train_ds = tfio.IODataset.from_kafka('susy-train', partition=0, offset=0)\n",
        "train_ds = train_ds.shuffle(buffer_size=SHUFFLE_BUFFER_SIZE)\n",
        "train_ds = train_ds.map(decode_kafka_item)\n",
        "train_ds = train_ds.batch(BATCH_SIZE)"
      ]
    },
    {
      "attachments": {},
      "cell_type": "markdown",
      "metadata": {
        "id": "x84lZJY164RI"
      },
      "source": [
        "## Build and train the model\n"
      ]
    },
    {
      "cell_type": "code",
      "execution_count": null,
      "metadata": {
        "id": "uuHtpAMqLqmv"
      },
      "outputs": [],
      "source": [
        "# Set the parameters\n",
        "\n",
        "OPTIMIZER=\"adam\"\n",
        "LOSS=tf.keras.losses.BinaryCrossentropy(from_logits=True)\n",
        "METRICS=['accuracy']\n",
        "EPOCHS=1"
      ]
    },
    {
      "cell_type": "code",
      "execution_count": null,
      "metadata": {
        "id": "7lBmxxuj63jZ"
      },
      "outputs": [
        {
          "name": "stdout",
          "output_type": "stream",
          "text": [
            "Model: \"sequential_3\"\n",
            "_________________________________________________________________\n",
            " Layer (type)                Output Shape              Param #   \n",
            "=================================================================\n",
            " dense_8 (Dense)             (None, 128)               2432      \n",
            "                                                                 \n",
            " dropout_3 (Dropout)         (None, 128)               0         \n",
            "                                                                 \n",
            " dense_9 (Dense)             (None, 256)               33024     \n",
            "                                                                 \n",
            " dropout_4 (Dropout)         (None, 256)               0         \n",
            "                                                                 \n",
            " dense_10 (Dense)            (None, 128)               32896     \n",
            "                                                                 \n",
            " dropout_5 (Dropout)         (None, 128)               0         \n",
            "                                                                 \n",
            " dense_11 (Dense)            (None, 1)                 129       \n",
            "                                                                 \n",
            "=================================================================\n",
            "Total params: 68,481\n",
            "Trainable params: 68,481\n",
            "Non-trainable params: 0\n",
            "_________________________________________________________________\n",
            "None\n"
          ]
        }
      ],
      "source": [
        "# design/build the model\n",
        "model = tf.keras.Sequential([\n",
        "  tf.keras.layers.Input(shape=(NUM_COLUMNS,)),\n",
        "  tf.keras.layers.Dense(128, activation='relu'),\n",
        "  tf.keras.layers.Dropout(0.2),\n",
        "  tf.keras.layers.Dense(256, activation='relu'),\n",
        "  tf.keras.layers.Dropout(0.4),\n",
        "  tf.keras.layers.Dense(128, activation='relu'),\n",
        "  tf.keras.layers.Dropout(0.4),\n",
        "  tf.keras.layers.Dense(1, activation='sigmoid')\n",
        "])\n",
        "\n",
        "print(model.summary())"
      ]
    },
    {
      "cell_type": "code",
      "execution_count": null,
      "metadata": {
        "id": "LTDFVxpSLfXI"
      },
      "outputs": [],
      "source": [
        "# compile the model\n",
        "model.compile(optimizer=OPTIMIZER, loss=LOSS, metrics=METRICS)"
      ]
    },
    {
      "cell_type": "code",
      "execution_count": null,
      "metadata": {
        "id": "SIJMg-saLgeR"
      },
      "outputs": [
        {
          "name": "stderr",
          "output_type": "stream",
          "text": [
            "2023-06-28 01:55:24.403489: I tensorflow/core/common_runtime/executor.cc:1197] [/device:CPU:0] (DEBUG INFO) Executor start aborting (this does not indicate an error and you can ignore this message): INVALID_ARGUMENT: You must feed a value for placeholder tensor 'Placeholder/_10' with dtype int64 and shape [1]\n",
            "\t [[{{node Placeholder/_10}}]]\n",
            "2023-06-28 01:55:24.403781: I tensorflow/core/common_runtime/executor.cc:1197] [/device:CPU:0] (DEBUG INFO) Executor start aborting (this does not indicate an error and you can ignore this message): INVALID_ARGUMENT: You must feed a value for placeholder tensor 'Placeholder/_14' with dtype resource\n",
            "\t [[{{node Placeholder/_14}}]]\n",
            "/home/paulo/Documents/tensorflow-io-ml/.venv/lib/python3.8/site-packages/keras/backend.py:5703: UserWarning: \"`binary_crossentropy` received `from_logits=True`, but the `output` argument was produced by a Sigmoid activation and thus does not represent logits. Was this intended?\n",
            "  output, from_logits = _get_logits(\n",
            "2023-06-28 01:55:25.351995: I tensorflow_io/core/kernels/kafka_kernels.cc:248] Kafka stream starts with current offset: 0\n"
          ]
        },
        {
          "name": "stdout",
          "output_type": "stream",
          "text": [
            "      1/Unknown - 1s 1s/step - loss: 0.7274 - accuracy: 0.4375"
          ]
        },
        {
          "name": "stderr",
          "output_type": "stream",
          "text": [
            "2023-06-28 01:55:25.684979: I tensorflow_io/core/kernels/kafka_kernels.cc:248] Kafka stream starts with current offset: 1024\n"
          ]
        },
        {
          "name": "stdout",
          "output_type": "stream",
          "text": [
            "     31/Unknown - 2s 19ms/step - loss: 0.6366 - accuracy: 0.6164"
          ]
        },
        {
          "name": "stderr",
          "output_type": "stream",
          "text": [
            "2023-06-28 01:55:26.204838: I tensorflow_io/core/kernels/kafka_kernels.cc:248] Kafka stream starts with current offset: 2048\n"
          ]
        },
        {
          "name": "stdout",
          "output_type": "stream",
          "text": [
            "     45/Unknown - 2s 25ms/step - loss: 0.6091 - accuracy: 0.6503"
          ]
        },
        {
          "name": "stderr",
          "output_type": "stream",
          "text": [
            "2023-06-28 01:55:26.735533: I tensorflow_io/core/kernels/kafka_kernels.cc:248] Kafka stream starts with current offset: 3072\n"
          ]
        },
        {
          "name": "stdout",
          "output_type": "stream",
          "text": [
            "     63/Unknown - 3s 26ms/step - loss: 0.5902 - accuracy: 0.6726"
          ]
        },
        {
          "name": "stderr",
          "output_type": "stream",
          "text": [
            "2023-06-28 01:55:27.247189: I tensorflow_io/core/kernels/kafka_kernels.cc:248] Kafka stream starts with current offset: 4096\n"
          ]
        },
        {
          "name": "stdout",
          "output_type": "stream",
          "text": [
            "     78/Unknown - 3s 28ms/step - loss: 0.5758 - accuracy: 0.6885"
          ]
        },
        {
          "name": "stderr",
          "output_type": "stream",
          "text": [
            "2023-06-28 01:55:27.770333: I tensorflow_io/core/kernels/kafka_kernels.cc:248] Kafka stream starts with current offset: 5120\n"
          ]
        },
        {
          "name": "stdout",
          "output_type": "stream",
          "text": [
            "     95/Unknown - 4s 28ms/step - loss: 0.5595 - accuracy: 0.7038"
          ]
        },
        {
          "name": "stderr",
          "output_type": "stream",
          "text": [
            "2023-06-28 01:55:28.286025: I tensorflow_io/core/kernels/kafka_kernels.cc:248] Kafka stream starts with current offset: 6144\n"
          ]
        },
        {
          "name": "stdout",
          "output_type": "stream",
          "text": [
            "    110/Unknown - 4s 29ms/step - loss: 0.5537 - accuracy: 0.7092"
          ]
        },
        {
          "name": "stderr",
          "output_type": "stream",
          "text": [
            "2023-06-28 01:55:28.800672: I tensorflow_io/core/kernels/kafka_kernels.cc:248] Kafka stream starts with current offset: 7168\n"
          ]
        },
        {
          "name": "stdout",
          "output_type": "stream",
          "text": [
            "    125/Unknown - 5s 30ms/step - loss: 0.5471 - accuracy: 0.7149"
          ]
        },
        {
          "name": "stderr",
          "output_type": "stream",
          "text": [
            "2023-06-28 01:55:29.328790: I tensorflow_io/core/kernels/kafka_kernels.cc:248] Kafka stream starts with current offset: 8192\n"
          ]
        },
        {
          "name": "stdout",
          "output_type": "stream",
          "text": [
            "    143/Unknown - 6s 30ms/step - loss: 0.5411 - accuracy: 0.7197"
          ]
        },
        {
          "name": "stderr",
          "output_type": "stream",
          "text": [
            "2023-06-28 01:55:29.947131: I tensorflow_io/core/kernels/kafka_kernels.cc:248] Kafka stream starts with current offset: 9216\n"
          ]
        },
        {
          "name": "stdout",
          "output_type": "stream",
          "text": [
            "    156/Unknown - 6s 30ms/step - loss: 0.5346 - accuracy: 0.7252"
          ]
        },
        {
          "name": "stderr",
          "output_type": "stream",
          "text": [
            "2023-06-28 01:55:30.364510: I tensorflow_io/core/kernels/kafka_kernels.cc:248] Kafka stream starts with current offset: 10240\n"
          ]
        },
        {
          "name": "stdout",
          "output_type": "stream",
          "text": [
            "    172/Unknown - 6s 31ms/step - loss: 0.5296 - accuracy: 0.7303"
          ]
        },
        {
          "name": "stderr",
          "output_type": "stream",
          "text": [
            "2023-06-28 01:55:30.870022: I tensorflow_io/core/kernels/kafka_kernels.cc:248] Kafka stream starts with current offset: 11264\n"
          ]
        },
        {
          "name": "stdout",
          "output_type": "stream",
          "text": [
            "    187/Unknown - 7s 31ms/step - loss: 0.5266 - accuracy: 0.7336"
          ]
        },
        {
          "name": "stderr",
          "output_type": "stream",
          "text": [
            "2023-06-28 01:55:31.384063: I tensorflow_io/core/kernels/kafka_kernels.cc:248] Kafka stream starts with current offset: 12288\n"
          ]
        },
        {
          "name": "stdout",
          "output_type": "stream",
          "text": [
            "    204/Unknown - 7s 31ms/step - loss: 0.5227 - accuracy: 0.7368"
          ]
        },
        {
          "name": "stderr",
          "output_type": "stream",
          "text": [
            "2023-06-28 01:55:31.883797: I tensorflow_io/core/kernels/kafka_kernels.cc:248] Kafka stream starts with current offset: 13312\n"
          ]
        },
        {
          "name": "stdout",
          "output_type": "stream",
          "text": [
            "    220/Unknown - 8s 31ms/step - loss: 0.5192 - accuracy: 0.7408"
          ]
        },
        {
          "name": "stderr",
          "output_type": "stream",
          "text": [
            "2023-06-28 01:55:32.391412: I tensorflow_io/core/kernels/kafka_kernels.cc:248] Kafka stream starts with current offset: 14336\n"
          ]
        },
        {
          "name": "stdout",
          "output_type": "stream",
          "text": [
            "    234/Unknown - 8s 31ms/step - loss: 0.5162 - accuracy: 0.7427"
          ]
        },
        {
          "name": "stderr",
          "output_type": "stream",
          "text": [
            "2023-06-28 01:55:32.903546: I tensorflow_io/core/kernels/kafka_kernels.cc:248] Kafka stream starts with current offset: 15360\n"
          ]
        },
        {
          "name": "stdout",
          "output_type": "stream",
          "text": [
            "250/250 [==============================] - 9s 31ms/step - loss: 0.5136 - accuracy: 0.7449\n"
          ]
        },
        {
          "data": {
            "text/plain": [
              "<keras.callbacks.History at 0x7f3bdb31d640>"
            ]
          },
          "execution_count": 76,
          "metadata": {},
          "output_type": "execute_result"
        }
      ],
      "source": [
        "# fit the model\n",
        "model.fit(train_ds, epochs=EPOCHS)"
      ]
    },
    {
      "cell_type": "code",
      "execution_count": null,
      "metadata": {},
      "outputs": [
        {
          "data": {
            "text/plain": [
              "<zip at 0x7f02f7f60c00>"
            ]
          },
          "metadata": {},
          "output_type": "display_data"
        }
      ],
      "source": [
        "zip(training_x, training_y)"
      ]
    },
    {
      "attachments": {},
      "cell_type": "markdown",
      "metadata": {
        "id": "ZPy0Ka21QII5"
      },
      "source": [
        "Note: Please do not confuse the training step with online training. It's an entirely different paradigm which will be covered in a later section.\n",
        "\n",
        "Since only a fraction of the dataset is being utilized, our accuracy is limited to ~78% during the training phase. However, please feel free to store additional data in kafka for a better model performance. Also, since the goal was to just demonstrate the functionality of the tfio kafka datasets, a smaller and less-complicated neural network was used. However, one can increase the complexity of the model, modify the learning strategy, tune hyper-parameters etc for exploration purposes. For a baseline approach, please refer to this [article](https://www.nature.com/articles/ncomms5308#Sec11)."
      ]
    },
    {
      "attachments": {},
      "cell_type": "markdown",
      "metadata": {
        "id": "XYJW8za2qm4c"
      },
      "source": [
        "## Infer on the test data\n",
        "\n",
        "To infer on the test data by adhering to the 'exactly-once' semantics along with fault-tolerance, the `streaming.KafkaGroupIODataset` can be utilized.\n"
      ]
    },
    {
      "attachments": {},
      "cell_type": "markdown",
      "metadata": {
        "id": "w3FZOlSh2pmy"
      },
      "source": [
        "### Define the tfio test dataset\n",
        "\n",
        "The `stream_timeout` parameter blocks for the given duration for new data points to be streamed into the topic. This removes the need for creating new datasets if the data is being streamed into the topic in an intermittent fashion."
      ]
    },
    {
      "cell_type": "code",
      "execution_count": null,
      "metadata": {
        "id": "wjnM81lPROen"
      },
      "outputs": [
        {
          "name": "stderr",
          "output_type": "stream",
          "text": [
            "2023-06-28 01:59:06.223225: I tensorflow_io/core/kernels/kafka_kernels.cc:879] Kafka configuration: session.timeout.ms=7000\n",
            "2023-06-28 01:59:06.223271: I tensorflow_io/core/kernels/kafka_kernels.cc:879] Kafka configuration: max.poll.interval.ms=8000\n",
            "2023-06-28 01:59:06.223294: I tensorflow_io/core/kernels/kafka_kernels.cc:879] Kafka configuration: auto.offset.reset=earliest\n",
            "2023-06-28 01:59:06.223306: I tensorflow_io/core/kernels/kafka_kernels.cc:879] Kafka configuration: group.id=testcg\n",
            "2023-06-28 01:59:06.223314: I tensorflow_io/core/kernels/kafka_kernels.cc:879] Kafka configuration: bootstrap.servers=127.0.0.1:9092\n",
            "2023-06-28 01:59:06.223331: I tensorflow_io/core/kernels/kafka_kernels.cc:919] max num of messages per batch: 10000\n",
            "2023-06-28 01:59:06.223341: I tensorflow_io/core/kernels/kafka_kernels.cc:938] Creating the kafka consumer\n",
            "2023-06-28 01:59:06.223611: I tensorflow_io/core/kernels/kafka_kernels.cc:945] Subscribing to the kafka topic: susy-test\n"
          ]
        }
      ],
      "source": [
        "test_ds = tfio.experimental.streaming.KafkaGroupIODataset(\n",
        "    topics=[\"susy-test\"],\n",
        "    group_id=\"testcg\",\n",
        "    servers=\"127.0.0.1:9092\",\n",
        "    stream_timeout=10000,\n",
        "    configuration=[\n",
        "        \"session.timeout.ms=7000\",\n",
        "        \"max.poll.interval.ms=8000\",\n",
        "        \"auto.offset.reset=earliest\"\n",
        "    ],\n",
        ")"
      ]
    },
    {
      "cell_type": "code",
      "execution_count": null,
      "metadata": {},
      "outputs": [
        {
          "data": {
            "text/plain": [
              "<_BatchDataset element_spec=(TensorSpec(shape=(None, 18), dtype=tf.float32, name=None), TensorSpec(shape=(None,), dtype=tf.float32, name=None))>"
            ]
          },
          "execution_count": 95,
          "metadata": {},
          "output_type": "execute_result"
        }
      ],
      "source": [
        "def decode_kafka_test_item(raw_message, raw_key):\n",
        "  message = tf.io.decode_csv(raw_message, [[0.0] for i in range(NUM_COLUMNS)])\n",
        "  key = tf.strings.to_number(raw_key)\n",
        "  return (message, key)\n",
        "\n",
        "test_ds = test_ds.map(decode_kafka_test_item)\n",
        "test_ds = test_ds.batch(BATCH_SIZE)\n",
        "test_ds"
      ]
    },
    {
      "attachments": {},
      "cell_type": "markdown",
      "metadata": {
        "id": "cg8j3bZsSF6u"
      },
      "source": [
        "Though this class can be used for training purposes, there are caveats which need to be addressed. Once all the messages are read from kafka and the latest offsets are committed using the `streaming.KafkaGroupIODataset`, the consumer doesn't restart reading the messages from the beginning. Thus, while training, it is possible only to train for a single epoch with the data continuously flowing in. This kind of a functionality has limited use cases during the training phase wherein, once a datapoint has been consumed by the model it is no longer required and can be discarded.\n",
        "\n",
        "However, this functionality shines when it comes to robust inference with exactly-once semantics."
      ]
    },
    {
      "attachments": {},
      "cell_type": "markdown",
      "metadata": {
        "id": "2PapN5Q_241k"
      },
      "source": [
        "### evaluate the performance on the test data\n"
      ]
    },
    {
      "cell_type": "code",
      "execution_count": null,
      "metadata": {
        "id": "6hMtIe1X215P"
      },
      "outputs": [
        {
          "name": "stderr",
          "output_type": "stream",
          "text": [
            "2023-06-28 01:55:33.934778: I tensorflow/core/common_runtime/executor.cc:1197] [/device:CPU:0] (DEBUG INFO) Executor start aborting (this does not indicate an error and you can ignore this message): INVALID_ARGUMENT: You must feed a value for placeholder tensor 'Placeholder/_7' with dtype resource\n",
            "\t [[{{node Placeholder/_7}}]]\n",
            "2023-06-28 01:55:34.103457: E tensorflow_io/core/kernels/kafka_kernels.cc:774] REBALANCE: Local: Assign partitions\n",
            "2023-06-28 01:55:34.104107: E tensorflow_io/core/kernels/kafka_kernels.cc:776] Retrieved committed offsets with status code: 0\n",
            "2023-06-28 01:55:34.104124: I tensorflow_io/core/kernels/kafka_kernels.cc:787] REBALANCE: susy-test[0], OFFSET: 9771 ERROR_CODE: 0\n",
            "2023-06-28 01:55:34.104129: I tensorflow_io/core/kernels/kafka_kernels.cc:787] REBALANCE: susy-test[1], OFFSET: 8229 ERROR_CODE: 0\n",
            "2023-06-28 01:55:34.104134: I tensorflow_io/core/kernels/kafka_kernels.cc:802] REBALANCE: Assigning partitions\n"
          ]
        },
        {
          "name": "stdout",
          "output_type": "stream",
          "text": [
            "     68/Unknown - 1s 2ms/step - loss: 0.4408 - accuracy: 0.8065"
          ]
        },
        {
          "name": "stderr",
          "output_type": "stream",
          "text": [
            "2023-06-28 01:55:34.616416: I tensorflow_io/core/kernels/kafka_kernels.cc:996] EOF reached for all 2 partition(s)\n"
          ]
        },
        {
          "name": "stdout",
          "output_type": "stream",
          "text": [
            "94/94 [==============================] - 11s 108ms/step - loss: 0.4534 - accuracy: 0.7862\n",
            "  loss, test acc: [0.4533921778202057, 0.7861666679382324]\n"
          ]
        },
        {
          "name": "stderr",
          "output_type": "stream",
          "text": [
            "2023-06-28 01:55:44.623890: E tensorflow_io/core/kernels/kafka_kernels.cc:1001] Local: Timed out\n"
          ]
        }
      ],
      "source": [
        "res = model.evaluate(test_ds)\n",
        "print(\"  loss, test acc:\", res) \n"
      ]
    },
    {
      "attachments": {},
      "cell_type": "markdown",
      "metadata": {
        "id": "mWX9j11bWJGe"
      },
      "source": [
        "Since the inference is based on 'exactly-once' semantics, the evaluation on the test set can be run only once. In order to run the inference again on the test data, a new consumer group should be used."
      ]
    },
    {
      "attachments": {},
      "cell_type": "markdown",
      "metadata": {
        "id": "95Chcbd9xThl"
      },
      "source": [
        "### Track the offset lag of the `testcg` consumer group"
      ]
    },
    {
      "cell_type": "code",
      "execution_count": null,
      "metadata": {
        "id": "9uz3km0RxUG7"
      },
      "outputs": [
        {
          "name": "stdout",
          "output_type": "stream",
          "text": [
            "/bin/bash: ./kafka_2.13-3.1.0/bin/kafka-consumer-groups.sh: No such file or directory\n"
          ]
        }
      ],
      "source": [
        "!./kafka_2.13-3.1.0/bin/kafka-consumer-groups.sh --bootstrap-server 127.0.0.1:9092 --describe --group testcg\n"
      ]
    },
    {
      "attachments": {},
      "cell_type": "markdown",
      "metadata": {
        "id": "I8Wg0_eXMKL9"
      },
      "source": [
        "Once the `current-offset` matches the `log-end-offset` for all the partitions, it indicates that the consumer(s) have completed fetching all the messages from the kafka topic."
      ]
    },
    {
      "attachments": {},
      "cell_type": "markdown",
      "metadata": {
        "id": "TYwillcxP97z"
      },
      "source": [
        "## Online learning\n",
        "\n",
        "The online machine learning paradigm is a bit different from the traditional/conventional way of training machine learning models. In the former case, the model continues to incrementally learn/update it's parameters as soon as the new data points are available and this process is expected to continue indefinitely. This is unlike the latter approaches where the dataset is fixed and the model iterates over it `n` number of times. In online learning, the data once consumed by the model may not be available for training again.\n",
        "\n",
        "By utilizing the `streaming.KafkaBatchIODataset`, it is now possible to train the models in this fashion. Let's continue to use our SUSY dataset for demonstrating this functionality."
      ]
    },
    {
      "attachments": {},
      "cell_type": "markdown",
      "metadata": {
        "id": "r5HyQtUZXi_P"
      },
      "source": [
        "### The tfio training dataset for online learning\n",
        "\n",
        "The `streaming.KafkaBatchIODataset` is similar to the `streaming.KafkaGroupIODataset` in it's API. Additionally, it is recommended to utilize the `stream_timeout` parameter to configure the duration for which the dataset will block for new messages before timing out. In the instance below, the dataset is configured with a `stream_timeout` of `10000` milliseconds. This implies that, after all the messages from the topic have been consumed, the dataset will wait for an additional 10 seconds before timing out and disconnecting from the kafka cluster. If new messages are streamed into the topic before timing out, the data consumption and model training resumes for those newly consumed data points. To block indefinitely, set it to `-1`."
      ]
    },
    {
      "cell_type": "code",
      "execution_count": null,
      "metadata": {
        "id": "m-zCHNOuSJDL"
      },
      "outputs": [
        {
          "name": "stderr",
          "output_type": "stream",
          "text": [
            "2023-06-28 01:55:45.717142: I tensorflow_io/core/kernels/kafka_kernels.cc:879] Kafka configuration: session.timeout.ms=7000\n",
            "2023-06-28 01:55:45.717215: I tensorflow_io/core/kernels/kafka_kernels.cc:879] Kafka configuration: max.poll.interval.ms=8000\n",
            "2023-06-28 01:55:45.717243: I tensorflow_io/core/kernels/kafka_kernels.cc:879] Kafka configuration: auto.offset.reset=earliest\n",
            "2023-06-28 01:55:45.717258: I tensorflow_io/core/kernels/kafka_kernels.cc:879] Kafka configuration: group.id=cgonline\n",
            "2023-06-28 01:55:45.717273: I tensorflow_io/core/kernels/kafka_kernels.cc:879] Kafka configuration: bootstrap.servers=127.0.0.1:9092\n",
            "2023-06-28 01:55:45.717313: I tensorflow_io/core/kernels/kafka_kernels.cc:919] max num of messages per batch: 10000\n",
            "2023-06-28 01:55:45.717340: I tensorflow_io/core/kernels/kafka_kernels.cc:938] Creating the kafka consumer\n",
            "2023-06-28 01:55:45.717809: I tensorflow_io/core/kernels/kafka_kernels.cc:945] Subscribing to the kafka topic: susy-train\n"
          ]
        }
      ],
      "source": [
        "online_train_ds = tfio.experimental.streaming.KafkaBatchIODataset(\n",
        "    topics=[\"susy-train\"],\n",
        "    group_id=\"cgonline\",\n",
        "    servers=\"127.0.0.1:9092\",\n",
        "    stream_timeout=10000, # in milliseconds, to block indefinitely, set it to -1.\n",
        "    configuration=[\n",
        "        \"session.timeout.ms=7000\",\n",
        "        \"max.poll.interval.ms=8000\",\n",
        "        \"auto.offset.reset=earliest\"\n",
        "    ],\n",
        ")"
      ]
    },
    {
      "attachments": {},
      "cell_type": "markdown",
      "metadata": {
        "id": "lgSCn5dskO0t"
      },
      "source": [
        "Every item that the `online_train_ds` generates is a `tf.data.Dataset` in itself. Thus, all the standard transformations can be applied as usual.\n"
      ]
    },
    {
      "cell_type": "code",
      "execution_count": null,
      "metadata": {
        "id": "9cxF0bgGkQJs"
      },
      "outputs": [
        {
          "name": "stderr",
          "output_type": "stream",
          "text": [
            "2023-06-28 01:55:46.033805: I tensorflow/core/common_runtime/executor.cc:1197] [/device:CPU:0] (DEBUG INFO) Executor start aborting (this does not indicate an error and you can ignore this message): INVALID_ARGUMENT: You must feed a value for placeholder tensor 'Placeholder/_0' with dtype int32\n",
            "\t [[{{node Placeholder/_0}}]]\n",
            "2023-06-28 01:55:46.082147: E tensorflow_io/core/kernels/kafka_kernels.cc:774] REBALANCE: Local: Assign partitions\n",
            "2023-06-28 01:55:46.082837: E tensorflow_io/core/kernels/kafka_kernels.cc:776] Retrieved committed offsets with status code: 0\n",
            "2023-06-28 01:55:46.082860: I tensorflow_io/core/kernels/kafka_kernels.cc:787] REBALANCE: susy-train[0], OFFSET: 12000 ERROR_CODE: 0\n",
            "2023-06-28 01:55:46.082871: I tensorflow_io/core/kernels/kafka_kernels.cc:802] REBALANCE: Assigning partitions\n"
          ]
        },
        {
          "name": "stdout",
          "output_type": "stream",
          "text": [
            "Epoch 1/3\n",
            " 41/125 [========>.....................] - ETA: 0s - loss: 0.4707 - accuracy: 0.7843"
          ]
        },
        {
          "name": "stderr",
          "output_type": "stream",
          "text": [
            "2023-06-28 01:55:46.586534: I tensorflow_io/core/kernels/kafka_kernels.cc:996] EOF reached for all 1 partition(s)\n",
            "2023-06-28 01:55:46.658870: I tensorflow/core/common_runtime/executor.cc:1197] [/device:CPU:0] (DEBUG INFO) Executor start aborting (this does not indicate an error and you can ignore this message): INVALID_ARGUMENT: You must feed a value for placeholder tensor 'Placeholder/_2' with dtype string and shape [4000]\n",
            "\t [[{{node Placeholder/_2}}]]\n",
            "2023-06-28 01:55:46.659257: I tensorflow/core/common_runtime/executor.cc:1197] [/device:CPU:0] (DEBUG INFO) Executor start aborting (this does not indicate an error and you can ignore this message): INVALID_ARGUMENT: You must feed a value for placeholder tensor 'Placeholder/_2' with dtype string and shape [4000]\n",
            "\t [[{{node Placeholder/_2}}]]\n"
          ]
        },
        {
          "name": "stdout",
          "output_type": "stream",
          "text": [
            "125/125 [==============================] - 0s 3ms/step - loss: 0.4724 - accuracy: 0.7795\n",
            "Epoch 2/3\n",
            "125/125 [==============================] - 0s 2ms/step - loss: 0.4554 - accuracy: 0.7910\n",
            "Epoch 3/3\n",
            "125/125 [==============================] - 0s 3ms/step - loss: 0.4507 - accuracy: 0.8010\n"
          ]
        },
        {
          "name": "stderr",
          "output_type": "stream",
          "text": [
            "2023-06-28 01:55:56.591841: E tensorflow_io/core/kernels/kafka_kernels.cc:1001] Local: Timed out\n"
          ]
        }
      ],
      "source": [
        "def decode_kafka_online_item(raw_message, raw_key):\n",
        "  message = tf.io.decode_csv(raw_message, [[0.0] for i in range(NUM_COLUMNS)])\n",
        "  key = tf.strings.to_number(raw_key)\n",
        "  return (message, key)\n",
        "\n",
        "for mini_ds in online_train_ds:\n",
        "  mini_ds = mini_ds.shuffle(buffer_size=32)\n",
        "  mini_ds = mini_ds.map(decode_kafka_online_item)\n",
        "  mini_ds = mini_ds.batch(32)\n",
        "  if len(mini_ds) > 0:\n",
        "    model.fit(mini_ds, epochs=3)"
      ]
    },
    {
      "attachments": {},
      "cell_type": "markdown",
      "metadata": {
        "id": "IGph8eP9isuW"
      },
      "source": [
        "The incrementally trained model can be saved in a periodic fashion (based on use-cases) and can be utilized to infer on the test data in either online or offline modes.\n",
        "\n",
        "Note: The `streaming.KafkaBatchIODataset` and `streaming.KafkaGroupIODataset` are still in experimental phase and have scope for improvements based on user-feedback."
      ]
    },
    {
      "attachments": {},
      "cell_type": "markdown",
      "metadata": {
        "id": "P8QAS_3k1y3u"
      },
      "source": [
        "## References:\n",
        "\n",
        "- Baldi, P., P. Sadowski, and D. Whiteson. “Searching for Exotic Particles in High-energy Physics with Deep Learning.” Nature Communications 5 (July 2, 2014)\n",
        "\n",
        "- SUSY Dataset: https://archive.ics.uci.edu/ml/datasets/SUSY#\n"
      ]
    }
  ],
  "metadata": {
    "accelerator": "GPU",
    "colab": {
      "name": "kafka.ipynb",
      "provenance": [],
      "toc_visible": true
    },
    "kernelspec": {
      "display_name": "Python 3",
      "name": "python3"
    },
    "language_info": {
      "codemirror_mode": {
        "name": "ipython",
        "version": 3
      },
      "file_extension": ".py",
      "mimetype": "text/x-python",
      "name": "python",
      "nbconvert_exporter": "python",
      "pygments_lexer": "ipython3",
      "version": "3.8.10"
    }
  },
  "nbformat": 4,
  "nbformat_minor": 0
}
